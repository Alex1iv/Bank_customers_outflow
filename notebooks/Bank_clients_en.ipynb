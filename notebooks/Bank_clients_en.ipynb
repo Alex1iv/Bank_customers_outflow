{
 "cells": [
  {
   "attachments": {},
   "cell_type": "markdown",
   "metadata": {},
   "source": [
    "# Bank client outflow prediction.\n",
    "\n",
    "The [database from Kaggle.com](https://www.kaggle.com/datasets/mathchi/churn-for-bank-customers) contains following features :\n",
    "* RowNumber — row number\n",
    "* CustomerId — customer identification number\n",
    "* Surname — surename of a client\n",
    "* CreditScore — credit score. (the higher the credit score the higher the frequency of getting a credit and returning  it)\n",
    "* Geography — the origin country of a customer\n",
    "* Gender — client's gender\n",
    "* Age — client's age\n",
    "* Tenure — how many years the client uses the banking service\n",
    "* Balance — client's balance\n",
    "* NumOfProducts — the number of services used by a client\n",
    "* HasCrCard — whether the client has a credit card or not (1 — yes, 0 — no \n",
    "* IsActiveMember — if the client has an active member status (1 — yes, 0 — no)\n",
    "* EstimatedSalary — estimated client's salary\n",
    "* Exited — loyalty status, **the target value** (1 — exited client, 0 — loyal client)"
   ]
  },
  {
   "cell_type": "code",
   "execution_count": 1,
   "metadata": {},
   "outputs": [],
   "source": [
    "# import main librariees\n",
    "import pandas as pd\n",
    "import numpy as np \n",
    "import os, sys\n",
    "\n",
    "# Graphical libraries\n",
    "import matplotlib.pyplot as plt \n",
    "import seaborn as sns \n",
    "import matplotlib.pyplot as plt\n",
    "import plotly.express as px\n",
    "%matplotlib inline\n",
    "plt.style.use('fast')\n",
    "\n",
    "# ML libraries\n",
    "from sklearn import linear_model, metrics, preprocessing, tree, ensemble\n",
    "from sklearn.model_selection import train_test_split \n",
    "\n",
    "# set random seed\n",
    "random_seed = 42\n",
    "\n",
    "#set path\n",
    "sys.path.insert(1, '../')"
   ]
  },
  {
   "cell_type": "code",
   "execution_count": 2,
   "metadata": {},
   "outputs": [
    {
     "data": {
      "text/html": [
       "<div>\n",
       "<style scoped>\n",
       "    .dataframe tbody tr th:only-of-type {\n",
       "        vertical-align: middle;\n",
       "    }\n",
       "\n",
       "    .dataframe tbody tr th {\n",
       "        vertical-align: top;\n",
       "    }\n",
       "\n",
       "    .dataframe thead th {\n",
       "        text-align: right;\n",
       "    }\n",
       "</style>\n",
       "<table border=\"1\" class=\"dataframe\">\n",
       "  <thead>\n",
       "    <tr style=\"text-align: right;\">\n",
       "      <th></th>\n",
       "      <th>CreditScore</th>\n",
       "      <th>Geography</th>\n",
       "      <th>Gender</th>\n",
       "      <th>Age</th>\n",
       "      <th>Tenure</th>\n",
       "      <th>Balance</th>\n",
       "      <th>NumOfProducts</th>\n",
       "      <th>HasCrCard</th>\n",
       "      <th>IsActiveMember</th>\n",
       "      <th>EstimatedSalary</th>\n",
       "      <th>Exited</th>\n",
       "      <th>client status</th>\n",
       "    </tr>\n",
       "  </thead>\n",
       "  <tbody>\n",
       "    <tr>\n",
       "      <th>0</th>\n",
       "      <td>619</td>\n",
       "      <td>France</td>\n",
       "      <td>Female</td>\n",
       "      <td>42</td>\n",
       "      <td>2</td>\n",
       "      <td>0.00</td>\n",
       "      <td>1</td>\n",
       "      <td>1</td>\n",
       "      <td>1</td>\n",
       "      <td>101348.88</td>\n",
       "      <td>1</td>\n",
       "      <td>Exited</td>\n",
       "    </tr>\n",
       "    <tr>\n",
       "      <th>1</th>\n",
       "      <td>608</td>\n",
       "      <td>Spain</td>\n",
       "      <td>Female</td>\n",
       "      <td>41</td>\n",
       "      <td>1</td>\n",
       "      <td>83807.86</td>\n",
       "      <td>1</td>\n",
       "      <td>0</td>\n",
       "      <td>1</td>\n",
       "      <td>112542.58</td>\n",
       "      <td>0</td>\n",
       "      <td>Loyal</td>\n",
       "    </tr>\n",
       "    <tr>\n",
       "      <th>2</th>\n",
       "      <td>502</td>\n",
       "      <td>France</td>\n",
       "      <td>Female</td>\n",
       "      <td>42</td>\n",
       "      <td>8</td>\n",
       "      <td>159660.80</td>\n",
       "      <td>3</td>\n",
       "      <td>1</td>\n",
       "      <td>0</td>\n",
       "      <td>113931.57</td>\n",
       "      <td>1</td>\n",
       "      <td>Exited</td>\n",
       "    </tr>\n",
       "    <tr>\n",
       "      <th>3</th>\n",
       "      <td>699</td>\n",
       "      <td>France</td>\n",
       "      <td>Female</td>\n",
       "      <td>39</td>\n",
       "      <td>1</td>\n",
       "      <td>0.00</td>\n",
       "      <td>2</td>\n",
       "      <td>0</td>\n",
       "      <td>0</td>\n",
       "      <td>93826.63</td>\n",
       "      <td>0</td>\n",
       "      <td>Loyal</td>\n",
       "    </tr>\n",
       "    <tr>\n",
       "      <th>4</th>\n",
       "      <td>850</td>\n",
       "      <td>Spain</td>\n",
       "      <td>Female</td>\n",
       "      <td>43</td>\n",
       "      <td>2</td>\n",
       "      <td>125510.82</td>\n",
       "      <td>1</td>\n",
       "      <td>1</td>\n",
       "      <td>1</td>\n",
       "      <td>79084.10</td>\n",
       "      <td>0</td>\n",
       "      <td>Loyal</td>\n",
       "    </tr>\n",
       "  </tbody>\n",
       "</table>\n",
       "</div>"
      ],
      "text/plain": [
       "   CreditScore Geography  Gender  Age  Tenure    Balance  NumOfProducts  \\\n",
       "0          619    France  Female   42       2       0.00              1   \n",
       "1          608     Spain  Female   41       1   83807.86              1   \n",
       "2          502    France  Female   42       8  159660.80              3   \n",
       "3          699    France  Female   39       1       0.00              2   \n",
       "4          850     Spain  Female   43       2  125510.82              1   \n",
       "\n",
       "   HasCrCard  IsActiveMember  EstimatedSalary  Exited client status  \n",
       "0          1               1        101348.88       1        Exited  \n",
       "1          0               1        112542.58       0         Loyal  \n",
       "2          1               0        113931.57       1        Exited  \n",
       "3          0               0         93826.63       0         Loyal  \n",
       "4          1               1         79084.10       0         Loyal  "
      ]
     },
     "execution_count": 2,
     "metadata": {},
     "output_type": "execute_result"
    }
   ],
   "source": [
    "churn_data = pd.read_csv('../data/churn.zip', sep=',') \n",
    "\n",
    "# copy the bd to preserve the original dataset\n",
    "churn_df = churn_data.copy()\n",
    "\n",
    "# drop the useless feature RowNumber  \n",
    "churn_df.drop(['RowNumber'], axis=1, inplace=True) \n",
    "\n",
    "# Create a new feature 'client status' to define the customers status explicitly\n",
    "churn_df['client status'] = churn_df['Exited'].astype('category').cat.rename_categories({0:'Loyal', 1:'Exited'})\n",
    "\n",
    "# drop non informative features\n",
    "churn_df.drop(['CustomerId', 'Surname'], axis=1, inplace=True)\n",
    "\n",
    "churn_df.head()"
   ]
  },
  {
   "attachments": {},
   "cell_type": "markdown",
   "metadata": {},
   "source": [
    "## Ratio of exited clients to loyal clients"
   ]
  },
  {
   "cell_type": "code",
   "execution_count": 3,
   "metadata": {},
   "outputs": [],
   "source": [
    "# data\n",
    "df=churn_df['client status'].value_counts().sort_values(ascending=False)\n",
    "\n",
    "fig = px.pie(\n",
    "    data_frame = df,\n",
    "    values = 'client status',\n",
    "    names = df.index,\n",
    "    width=500, height=400\n",
    ")\n",
    "\n",
    "fig.update_layout(\n",
    "    title=dict(text=\"Fig.1 - Client distribution by status\", x=0.5, y=0.1, xanchor='center'),\n",
    "    legend_title_text='Status:'\n",
    ")\n",
    "#fig.update_traces(textposition='inside', textinfo='percent+label')\n",
    "#fig.show();\n",
    "\n",
    "fig.write_image('../figures/fig_1.png', engine=\"kaleido\")"
   ]
  },
  {
   "attachments": {},
   "cell_type": "markdown",
   "metadata": {},
   "source": [
    "<center> <img src = \"../figures/fig_1.png\"></center>"
   ]
  },
  {
   "attachments": {},
   "cell_type": "markdown",
   "metadata": {},
   "source": [
    "The fig.1 represents the client distribution by status. There are some 10000 clients in the database. The majority 79.6% (7963 ppl) uses the banking service though some 20.4% (2037 ppl) decided to exit the bank."
   ]
  },
  {
   "attachments": {},
   "cell_type": "markdown",
   "metadata": {},
   "source": [
    "## Customer balances distribution\n",
    "\n",
    "Let us study customer balances exceeding randomly chosen value of 2500$ (clients who actually use their accounts). "
   ]
  },
  {
   "cell_type": "code",
   "execution_count": 4,
   "metadata": {},
   "outputs": [
    {
     "name": "stdout",
     "output_type": "stream",
     "text": [
      "Number of customers which balance exceeds $2500: 6383 people\n"
     ]
    }
   ],
   "source": [
    "fig = px.box(\n",
    "    data_frame = churn_df[churn_df['Balance'] > 2500],\n",
    "    x = 'Balance',\n",
    "    height=250, width=700, \n",
    ")\n",
    "\n",
    "fig.update_layout(\n",
    "    title=dict(text='Fig.2 - Customer balances distribution over $2500', x=.5, y=0.05, xanchor='center'),\n",
    "    xaxis_title_text = 'balance, $', yaxis_title_text = 'clients'\n",
    ")\n",
    "\n",
    "#fig.show()\n",
    "fig.write_image('../figures/fig_2.png', engine=\"kaleido\")\n",
    "\n",
    "# number of customers:\n",
    "print(f\"Number of customers which balance exceeds $2500: {churn_df[churn_df['Balance'] > 2500].shape[0]} people\")"
   ]
  },
  {
   "attachments": {},
   "cell_type": "markdown",
   "metadata": {},
   "source": [
    "<center> <img src = \"../figures/fig_2.png\">"
   ]
  },
  {
   "attachments": {},
   "cell_type": "markdown",
   "metadata": {},
   "source": [
    "Fig.2 represents customers balances distribution exceeding $2500. Analyzing the figure one can admit:\n",
    "* there are slightly less than 6400 clients which balance exceeds $2500. \n",
    "* half of them have an amount between $100 thousands and $140 thousands.\n",
    "\n",
    "It shows that the majority of clients are relatively wealthy and they store some $ $120.000$ $\\pm$ $ $30.000$ on their accounts."
   ]
  },
  {
   "attachments": {},
   "cell_type": "markdown",
   "metadata": {},
   "source": [
    "# Balance distribution and client status"
   ]
  },
  {
   "cell_type": "code",
   "execution_count": 5,
   "metadata": {},
   "outputs": [],
   "source": [
    "fig = px.box(\n",
    "    data_frame = churn_df,\n",
    "    x = 'Balance',\n",
    "    y = 'client status',\n",
    "    color = 'client status',\n",
    "    height=300, width=800, \n",
    ")\n",
    "fig.update_layout(\n",
    "    title=dict(text='Fig.3 - Customer balances distribution by status', x=.5, y=0.05, xanchor='center'),\n",
    "    xaxis_title_text = 'Balance, $', yaxis_title_text = 'Status', legend_title_text='Status', \n",
    ")\n",
    "\n",
    "#fig.show()\n",
    "fig.write_image('../figures/fig_3.png', engine=\"kaleido\")"
   ]
  },
  {
   "attachments": {},
   "cell_type": "markdown",
   "metadata": {},
   "source": [
    "<center> <img src = \"../figures/fig_3.png\">"
   ]
  },
  {
   "attachments": {},
   "cell_type": "markdown",
   "metadata": {},
   "source": [
    "Analizing the fig.3, representing customers balances distribution by status, it can be admitted:\n",
    "* most of the exited clients stored some sufficient amount of money on their accounts whereas loyal clients have varying balance.\n",
    "* the mean balance of loyal clients of $92.000 is lower than that of exited - $109.000.\n",
    "\n",
    "This points out that wealthy clients withdraw their money at once (without decreasing it steadily)."
   ]
  },
  {
   "attachments": {},
   "cell_type": "markdown",
   "metadata": {},
   "source": [
    "## Age to client status"
   ]
  },
  {
   "cell_type": "code",
   "execution_count": 6,
   "metadata": {},
   "outputs": [],
   "source": [
    "fig = px.box(\n",
    "    data_frame = churn_df,\n",
    "    x = 'Age',\n",
    "    y = 'client status',\n",
    "    color = 'client status',\n",
    "    width=800, height=300,\n",
    ")\n",
    "fig.update_layout(\n",
    "    title=dict(text='Fig. 4 - age to status distribution', x=.5, y=0.05, xanchor='center'),\n",
    "    xaxis_title_text = 'Age of client, years', yaxis_title_text = 'Status',  \n",
    "    legend_title_text='Status:'\n",
    ")\n",
    "#fig.show()\n",
    "fig.write_image('../figures/fig_4.png', engine=\"kaleido\")"
   ]
  },
  {
   "attachments": {},
   "cell_type": "markdown",
   "metadata": {},
   "source": [
    "<center> <img src = \"../figures/fig_4.png\">"
   ]
  },
  {
   "attachments": {},
   "cell_type": "markdown",
   "metadata": {},
   "source": [
    "The age to client status distribution is shown on the fig.4. One can addmitt: \n",
    "* Median age of loyal clients is 36 years. The group contains many outliers, queing outside of the right boundary;\n",
    "* Median age of the exited clients is 45 years. A half of them can be named as a 'risky age group' is within the range between 38 and 51 years. The bank managers should point attention to this age group."
   ]
  },
  {
   "attachments": {},
   "cell_type": "markdown",
   "metadata": {},
   "source": [
    "## Credit rating vs estimated salary"
   ]
  },
  {
   "cell_type": "code",
   "execution_count": 7,
   "metadata": {},
   "outputs": [
    {
     "data": {
      "image/png": "[encoded data removed]",
      "text/plain": [
       "<Figure size 1200x400 with 2 Axes>"
      ]
     },
     "metadata": {},
     "output_type": "display_data"
    }
   ],
   "source": [
    "fig, ax = plt.subplots(nrows=1, ncols=2, figsize=(12, 4))\n",
    "\n",
    "# diagram1\n",
    "sns.scatterplot(\n",
    "    data=churn_df[churn_df['client status'] == 'Loyal'],\n",
    "    x='CreditScore',\n",
    "    y='EstimatedSalary', #marker=\"+\",\n",
    "    ax=ax[0]    \n",
    "    ); \n",
    "# logarythmic scale\n",
    "ax[0].set(yscale=\"log\") #xscale=\"log\"\n",
    "ax[0].set_ylim(10, 2.8*10e4)\n",
    "ax[0].set_xlabel('Credit rating')\n",
    "ax[0].set_ylabel('Salary')\n",
    "ax[0].grid();\n",
    "\n",
    "# diagram2 \n",
    "sns.scatterplot(\n",
    "    data=churn_df[churn_df['client status'] == 'Exited'], #\n",
    "    x='CreditScore',\n",
    "    y='EstimatedSalary', \n",
    "    ax=ax[1],\n",
    "    color='orange',\n",
    "    ); \n",
    "\n",
    "# логарифмическая шкала по оси У\n",
    "ax[1].set(yscale=\"log\",) #xscale=\"log\"\n",
    "ax[1].set_ylim(10, 2.8*10e4)\n",
    "\n",
    "ax[1].set_xlabel('Credit rating')\n",
    "ax[1].set_ylabel('Salary')\n",
    "\n",
    "ax[1].grid()\n",
    "\n",
    "fig.suptitle('Fig. 5 - Credit rating to salary', fontsize=12, y=-0.20)\n",
    "ax[0].set_title('a) loyal clients (n=7963)',y=-0.30,loc='center') #, , \n",
    "ax[1].set_title('b) exited cliens (n=2037)',y=-0.30,loc='center'); #, loc='center', y=-0.1\n",
    "\n",
    "plt.savefig(f'../figures/fig_5.png')"
   ]
  },
  {
   "attachments": {},
   "cell_type": "markdown",
   "metadata": {},
   "source": [
    "Analyzing the credit rating to salary distribution on fig.5 it can be inferred:\n",
    "* the rating does not correlate with salary in general. It implies that most of the client use the credit program.\n",
    "* most of clients despite status are supposed to have salary between 100090 $\\pm$ 57510 usd."
   ]
  },
  {
   "attachments": {},
   "cell_type": "markdown",
   "metadata": {},
   "source": [
    "## Exited clients genders"
   ]
  },
  {
   "cell_type": "code",
   "execution_count": 8,
   "metadata": {},
   "outputs": [],
   "source": [
    "df=churn_df[churn_df['client status'] == 'Exited']['Gender'].value_counts()\n",
    "\n",
    "fig = px.pie(\n",
    "    data_frame = df,\n",
    "    values = 'Gender',\n",
    "    names = df.index,\n",
    "    width=400, height=300,\n",
    ")\n",
    "\n",
    "fig.update_layout(\n",
    "    title=dict(text='Fig.6 - Genders of exited clients', x=.5, y=0.1, xanchor='center'),\n",
    "    legend_title_text='Gender:'\n",
    ")\n",
    "#fig.show()\n",
    "fig.write_image('../figures/fig_6.png', engine=\"kaleido\");\n",
    "\n",
    "# encoding\n",
    "churn_df['Gender'] = churn_df['Gender'].apply(lambda x: 1 if x == 'Male' else '0')"
   ]
  },
  {
   "attachments": {},
   "cell_type": "markdown",
   "metadata": {},
   "source": [
    "<center> <img src = \"../figures/fig_6.png\">"
   ]
  },
  {
   "attachments": {},
   "cell_type": "markdown",
   "metadata": {},
   "source": [
    "Analyzing the fig.6 it can be addmitted, that women leave the bank more often than men."
   ]
  },
  {
   "attachments": {},
   "cell_type": "markdown",
   "metadata": {},
   "source": [
    "## Number of services vs status"
   ]
  },
  {
   "cell_type": "code",
   "execution_count": 9,
   "metadata": {},
   "outputs": [],
   "source": [
    "df = churn_df.groupby(['NumOfProducts', 'Exited'], as_index=False).count()\n",
    "\n",
    "fig = px.bar(\n",
    "    data_frame=df,\n",
    "    x='NumOfProducts',\n",
    "    y='client status',\n",
    "    color='Exited',\n",
    "    height=400,\n",
    "    width=600,\n",
    "    labels={'NumOfProducts':'Number of products',\"client status\":'Number of clients'},\n",
    "    category_orders={'Exited': [1, 0]},\n",
    ")\n",
    "\n",
    "fig.update_layout(\n",
    "    title=dict(text='Fig.7 - Services used by exit clients', x=.5, y=0.05, xanchor='center'),\n",
    "    bargap=0.2\n",
    "    #legend_title_text='Gender:'\n",
    ")\n",
    "\n",
    "#fig.show()\n",
    "fig.write_image('../figures/fig_7.png', engine=\"kaleido\")"
   ]
  },
  {
   "attachments": {},
   "cell_type": "markdown",
   "metadata": {},
   "source": [
    "<center> <img src = \"../figures/fig_7.png\"> </center>\n",
    "\n",
    "The fig.7 represents the number of services used by clients in relation to their status. Analyzing the chart one can admit:\n",
    "* loyal clients used bank services in average 3 times more actively than exited clients in general. \n",
    "* most of clients use up to 2 products. \n",
    " \n",
    "The figure indicates that exited clients were unsatisfied with the number of services or its quality."
   ]
  },
  {
   "attachments": {},
   "cell_type": "markdown",
   "metadata": {},
   "source": [
    "## Active client status vs status"
   ]
  },
  {
   "cell_type": "code",
   "execution_count": 10,
   "metadata": {},
   "outputs": [
    {
     "data": {
      "image/png": "[encoded data removed]",
      "text/plain": [
       "<Figure size 1200x300 with 2 Axes>"
      ]
     },
     "metadata": {},
     "output_type": "display_data"
    }
   ],
   "source": [
    "fig, (ax1, ax2) = plt.subplots(1, 2, figsize=(12, 3)) \n",
    "labels = 'Active client', 'Not active'\n",
    "labels1 =  'Not active', 'Active client'\n",
    "\n",
    "ax1.pie(\n",
    "    churn_df[churn_df['client status'] == 'Loyal']['IsActiveMember'].value_counts().sort_values(ascending=False),\n",
    "    labels=labels,\n",
    "    autopct='%1.1f%%',\n",
    "    startangle=90,\n",
    ")\n",
    "\n",
    "\n",
    "ax2.pie(\n",
    "    churn_df[churn_df['client status'] == 'Exited']['IsActiveMember'].value_counts().sort_values(ascending=False),\n",
    "    labels=labels1,\n",
    "    autopct='%1.1f%%',\n",
    "    startangle=90,\n",
    ")\n",
    "\n",
    "fig.suptitle('Fig. 8 - Active client status ratio.', fontsize=12, y=-0.15)\n",
    "ax1.set_title('a) Loyal clients n=7963', loc='center', y=-0.1)\n",
    "ax2.set_title(' b)exited cliens n=2037', loc='center', y=-0.1);"
   ]
  },
  {
   "attachments": {},
   "cell_type": "markdown",
   "metadata": {},
   "source": [
    "The fig.8 represent the active client status distribution by the bank usage status. As it can be seen from the charts loyal clients are more prone to have an 'active clients' unlike exited clients. It indicates that exited clients were more passive and most likely to use their accounts for savings."
   ]
  },
  {
   "attachments": {},
   "cell_type": "markdown",
   "metadata": {},
   "source": [
    "# Exited clients distribution by country"
   ]
  },
  {
   "cell_type": "code",
   "execution_count": 11,
   "metadata": {},
   "outputs": [
    {
     "data": {
      "text/html": [
       "<div>\n",
       "<style scoped>\n",
       "    .dataframe tbody tr th:only-of-type {\n",
       "        vertical-align: middle;\n",
       "    }\n",
       "\n",
       "    .dataframe tbody tr th {\n",
       "        vertical-align: top;\n",
       "    }\n",
       "\n",
       "    .dataframe thead th {\n",
       "        text-align: right;\n",
       "    }\n",
       "</style>\n",
       "<table border=\"1\" class=\"dataframe\">\n",
       "  <thead>\n",
       "    <tr style=\"text-align: right;\">\n",
       "      <th></th>\n",
       "      <th>Geography</th>\n",
       "      <th>Exited</th>\n",
       "    </tr>\n",
       "  </thead>\n",
       "  <tbody>\n",
       "    <tr>\n",
       "      <th>0</th>\n",
       "      <td>France</td>\n",
       "      <td>810</td>\n",
       "    </tr>\n",
       "    <tr>\n",
       "      <th>1</th>\n",
       "      <td>Germany</td>\n",
       "      <td>814</td>\n",
       "    </tr>\n",
       "    <tr>\n",
       "      <th>2</th>\n",
       "      <td>Spain</td>\n",
       "      <td>413</td>\n",
       "    </tr>\n",
       "  </tbody>\n",
       "</table>\n",
       "</div>"
      ],
      "text/plain": [
       "  Geography  Exited\n",
       "0    France     810\n",
       "1   Germany     814\n",
       "2     Spain     413"
      ]
     },
     "metadata": {},
     "output_type": "display_data"
    },
    {
     "data": {
      "application/vnd.plotly.v1+json": {
       "config": {
        "plotlyServerURL": "https://plot.ly"
       },
       "data": [
        {
         "coloraxis": "coloraxis",
         "geo": "geo",
         "hovertemplate": "Geography=%{location}<br>Exited=%{z}<extra></extra>",
         "locationmode": "country names",
         "locations": [
          "France",
          "Germany",
          "Spain"
         ],
         "name": "",
         "type": "choropleth",
         "z": [
          810,
          814,
          413
         ]
        }
       ],
       "layout": {
        "coloraxis": {
         "colorbar": {
          "title": {
           "text": "Exited"
          }
         },
         "colorscale": [
          [
           0,
           "rgb(253, 224, 197)"
          ],
          [
           0.16666666666666666,
           "rgb(250, 203, 166)"
          ],
          [
           0.3333333333333333,
           "rgb(248, 181, 139)"
          ],
          [
           0.5,
           "rgb(245, 158, 114)"
          ],
          [
           0.6666666666666666,
           "rgb(242, 133, 93)"
          ],
          [
           0.8333333333333334,
           "rgb(239, 106, 76)"
          ],
          [
           1,
           "rgb(235, 74, 64)"
          ]
         ]
        },
        "geo": {
         "center": {
          "lat": 50,
          "lon": 2
         },
         "domain": {
          "x": [
           0,
           1
          ],
          "y": [
           0,
           1
          ]
         },
         "lataxis": {
          "range": [
           -5,
           20
          ]
         },
         "lonaxis": {
          "range": [
           38,
           51
          ]
         },
         "scope": "europe"
        },
        "height": 400,
        "legend": {
         "tracegroupgap": 0
        },
        "margin": {
         "t": 60
        },
        "template": {
         "data": {
          "bar": [
           {
            "error_x": {
             "color": "#2a3f5f"
            },
            "error_y": {
             "color": "#2a3f5f"
            },
            "marker": {
             "line": {
              "color": "#E5ECF6",
              "width": 0.5
             },
             "pattern": {
              "fillmode": "overlay",
              "size": 10,
              "solidity": 0.2
             }
            },
            "type": "bar"
           }
          ],
          "barpolar": [
           {
            "marker": {
             "line": {
              "color": "#E5ECF6",
              "width": 0.5
             },
             "pattern": {
              "fillmode": "overlay",
              "size": 10,
              "solidity": 0.2
             }
            },
            "type": "barpolar"
           }
          ],
          "carpet": [
           {
            "aaxis": {
             "endlinecolor": "#2a3f5f",
             "gridcolor": "white",
             "linecolor": "white",
             "minorgridcolor": "white",
             "startlinecolor": "#2a3f5f"
            },
            "baxis": {
             "endlinecolor": "#2a3f5f",
             "gridcolor": "white",
             "linecolor": "white",
             "minorgridcolor": "white",
             "startlinecolor": "#2a3f5f"
            },
            "type": "carpet"
           }
          ],
          "choropleth": [
           {
            "colorbar": {
             "outlinewidth": 0,
             "ticks": ""
            },
            "type": "choropleth"
           }
          ],
          "contour": [
           {
            "colorbar": {
             "outlinewidth": 0,
             "ticks": ""
            },
            "colorscale": [
             [
              0,
              "#0d0887"
             ],
             [
              0.1111111111111111,
              "#46039f"
             ],
             [
              0.2222222222222222,
              "#7201a8"
             ],
             [
              0.3333333333333333,
              "#9c179e"
             ],
             [
              0.4444444444444444,
              "#bd3786"
             ],
             [
              0.5555555555555556,
              "#d8576b"
             ],
             [
              0.6666666666666666,
              "#ed7953"
             ],
             [
              0.7777777777777778,
              "#fb9f3a"
             ],
             [
              0.8888888888888888,
              "#fdca26"
             ],
             [
              1,
              "#f0f921"
             ]
            ],
            "type": "contour"
           }
          ],
          "contourcarpet": [
           {
            "colorbar": {
             "outlinewidth": 0,
             "ticks": ""
            },
            "type": "contourcarpet"
           }
          ],
          "heatmap": [
           {
            "colorbar": {
             "outlinewidth": 0,
             "ticks": ""
            },
            "colorscale": [
             [
              0,
              "#0d0887"
             ],
             [
              0.1111111111111111,
              "#46039f"
             ],
             [
              0.2222222222222222,
              "#7201a8"
             ],
             [
              0.3333333333333333,
              "#9c179e"
             ],
             [
              0.4444444444444444,
              "#bd3786"
             ],
             [
              0.5555555555555556,
              "#d8576b"
             ],
             [
              0.6666666666666666,
              "#ed7953"
             ],
             [
              0.7777777777777778,
              "#fb9f3a"
             ],
             [
              0.8888888888888888,
              "#fdca26"
             ],
             [
              1,
              "#f0f921"
             ]
            ],
            "type": "heatmap"
           }
          ],
          "heatmapgl": [
           {
            "colorbar": {
             "outlinewidth": 0,
             "ticks": ""
            },
            "colorscale": [
             [
              0,
              "#0d0887"
             ],
             [
              0.1111111111111111,
              "#46039f"
             ],
             [
              0.2222222222222222,
              "#7201a8"
             ],
             [
              0.3333333333333333,
              "#9c179e"
             ],
             [
              0.4444444444444444,
              "#bd3786"
             ],
             [
              0.5555555555555556,
              "#d8576b"
             ],
             [
              0.6666666666666666,
              "#ed7953"
             ],
             [
              0.7777777777777778,
              "#fb9f3a"
             ],
             [
              0.8888888888888888,
              "#fdca26"
             ],
             [
              1,
              "#f0f921"
             ]
            ],
            "type": "heatmapgl"
           }
          ],
          "histogram": [
           {
            "marker": {
             "pattern": {
              "fillmode": "overlay",
              "size": 10,
              "solidity": 0.2
             }
            },
            "type": "histogram"
           }
          ],
          "histogram2d": [
           {
            "colorbar": {
             "outlinewidth": 0,
             "ticks": ""
            },
            "colorscale": [
             [
              0,
              "#0d0887"
             ],
             [
              0.1111111111111111,
              "#46039f"
             ],
             [
              0.2222222222222222,
              "#7201a8"
             ],
             [
              0.3333333333333333,
              "#9c179e"
             ],
             [
              0.4444444444444444,
              "#bd3786"
             ],
             [
              0.5555555555555556,
              "#d8576b"
             ],
             [
              0.6666666666666666,
              "#ed7953"
             ],
             [
              0.7777777777777778,
              "#fb9f3a"
             ],
             [
              0.8888888888888888,
              "#fdca26"
             ],
             [
              1,
              "#f0f921"
             ]
            ],
            "type": "histogram2d"
           }
          ],
          "histogram2dcontour": [
           {
            "colorbar": {
             "outlinewidth": 0,
             "ticks": ""
            },
            "colorscale": [
             [
              0,
              "#0d0887"
             ],
             [
              0.1111111111111111,
              "#46039f"
             ],
             [
              0.2222222222222222,
              "#7201a8"
             ],
             [
              0.3333333333333333,
              "#9c179e"
             ],
             [
              0.4444444444444444,
              "#bd3786"
             ],
             [
              0.5555555555555556,
              "#d8576b"
             ],
             [
              0.6666666666666666,
              "#ed7953"
             ],
             [
              0.7777777777777778,
              "#fb9f3a"
             ],
             [
              0.8888888888888888,
              "#fdca26"
             ],
             [
              1,
              "#f0f921"
             ]
            ],
            "type": "histogram2dcontour"
           }
          ],
          "mesh3d": [
           {
            "colorbar": {
             "outlinewidth": 0,
             "ticks": ""
            },
            "type": "mesh3d"
           }
          ],
          "parcoords": [
           {
            "line": {
             "colorbar": {
              "outlinewidth": 0,
              "ticks": ""
             }
            },
            "type": "parcoords"
           }
          ],
          "pie": [
           {
            "automargin": true,
            "type": "pie"
           }
          ],
          "scatter": [
           {
            "fillpattern": {
             "fillmode": "overlay",
             "size": 10,
             "solidity": 0.2
            },
            "type": "scatter"
           }
          ],
          "scatter3d": [
           {
            "line": {
             "colorbar": {
              "outlinewidth": 0,
              "ticks": ""
             }
            },
            "marker": {
             "colorbar": {
              "outlinewidth": 0,
              "ticks": ""
             }
            },
            "type": "scatter3d"
           }
          ],
          "scattercarpet": [
           {
            "marker": {
             "colorbar": {
              "outlinewidth": 0,
              "ticks": ""
             }
            },
            "type": "scattercarpet"
           }
          ],
          "scattergeo": [
           {
            "marker": {
             "colorbar": {
              "outlinewidth": 0,
              "ticks": ""
             }
            },
            "type": "scattergeo"
           }
          ],
          "scattergl": [
           {
            "marker": {
             "colorbar": {
              "outlinewidth": 0,
              "ticks": ""
             }
            },
            "type": "scattergl"
           }
          ],
          "scattermapbox": [
           {
            "marker": {
             "colorbar": {
              "outlinewidth": 0,
              "ticks": ""
             }
            },
            "type": "scattermapbox"
           }
          ],
          "scatterpolar": [
           {
            "marker": {
             "colorbar": {
              "outlinewidth": 0,
              "ticks": ""
             }
            },
            "type": "scatterpolar"
           }
          ],
          "scatterpolargl": [
           {
            "marker": {
             "colorbar": {
              "outlinewidth": 0,
              "ticks": ""
             }
            },
            "type": "scatterpolargl"
           }
          ],
          "scatterternary": [
           {
            "marker": {
             "colorbar": {
              "outlinewidth": 0,
              "ticks": ""
             }
            },
            "type": "scatterternary"
           }
          ],
          "surface": [
           {
            "colorbar": {
             "outlinewidth": 0,
             "ticks": ""
            },
            "colorscale": [
             [
              0,
              "#0d0887"
             ],
             [
              0.1111111111111111,
              "#46039f"
             ],
             [
              0.2222222222222222,
              "#7201a8"
             ],
             [
              0.3333333333333333,
              "#9c179e"
             ],
             [
              0.4444444444444444,
              "#bd3786"
             ],
             [
              0.5555555555555556,
              "#d8576b"
             ],
             [
              0.6666666666666666,
              "#ed7953"
             ],
             [
              0.7777777777777778,
              "#fb9f3a"
             ],
             [
              0.8888888888888888,
              "#fdca26"
             ],
             [
              1,
              "#f0f921"
             ]
            ],
            "type": "surface"
           }
          ],
          "table": [
           {
            "cells": {
             "fill": {
              "color": "#EBF0F8"
             },
             "line": {
              "color": "white"
             }
            },
            "header": {
             "fill": {
              "color": "#C8D4E3"
             },
             "line": {
              "color": "white"
             }
            },
            "type": "table"
           }
          ]
         },
         "layout": {
          "annotationdefaults": {
           "arrowcolor": "#2a3f5f",
           "arrowhead": 0,
           "arrowwidth": 1
          },
          "autotypenumbers": "strict",
          "coloraxis": {
           "colorbar": {
            "outlinewidth": 0,
            "ticks": ""
           }
          },
          "colorscale": {
           "diverging": [
            [
             0,
             "#8e0152"
            ],
            [
             0.1,
             "#c51b7d"
            ],
            [
             0.2,
             "#de77ae"
            ],
            [
             0.3,
             "#f1b6da"
            ],
            [
             0.4,
             "#fde0ef"
            ],
            [
             0.5,
             "#f7f7f7"
            ],
            [
             0.6,
             "#e6f5d0"
            ],
            [
             0.7,
             "#b8e186"
            ],
            [
             0.8,
             "#7fbc41"
            ],
            [
             0.9,
             "#4d9221"
            ],
            [
             1,
             "#276419"
            ]
           ],
           "sequential": [
            [
             0,
             "#0d0887"
            ],
            [
             0.1111111111111111,
             "#46039f"
            ],
            [
             0.2222222222222222,
             "#7201a8"
            ],
            [
             0.3333333333333333,
             "#9c179e"
            ],
            [
             0.4444444444444444,
             "#bd3786"
            ],
            [
             0.5555555555555556,
             "#d8576b"
            ],
            [
             0.6666666666666666,
             "#ed7953"
            ],
            [
             0.7777777777777778,
             "#fb9f3a"
            ],
            [
             0.8888888888888888,
             "#fdca26"
            ],
            [
             1,
             "#f0f921"
            ]
           ],
           "sequentialminus": [
            [
             0,
             "#0d0887"
            ],
            [
             0.1111111111111111,
             "#46039f"
            ],
            [
             0.2222222222222222,
             "#7201a8"
            ],
            [
             0.3333333333333333,
             "#9c179e"
            ],
            [
             0.4444444444444444,
             "#bd3786"
            ],
            [
             0.5555555555555556,
             "#d8576b"
            ],
            [
             0.6666666666666666,
             "#ed7953"
            ],
            [
             0.7777777777777778,
             "#fb9f3a"
            ],
            [
             0.8888888888888888,
             "#fdca26"
            ],
            [
             1,
             "#f0f921"
            ]
           ]
          },
          "colorway": [
           "#636efa",
           "#EF553B",
           "#00cc96",
           "#ab63fa",
           "#FFA15A",
           "#19d3f3",
           "#FF6692",
           "#B6E880",
           "#FF97FF",
           "#FECB52"
          ],
          "font": {
           "color": "#2a3f5f"
          },
          "geo": {
           "bgcolor": "white",
           "lakecolor": "white",
           "landcolor": "#E5ECF6",
           "showlakes": true,
           "showland": true,
           "subunitcolor": "white"
          },
          "hoverlabel": {
           "align": "left"
          },
          "hovermode": "closest",
          "mapbox": {
           "style": "light"
          },
          "paper_bgcolor": "white",
          "plot_bgcolor": "#E5ECF6",
          "polar": {
           "angularaxis": {
            "gridcolor": "white",
            "linecolor": "white",
            "ticks": ""
           },
           "bgcolor": "#E5ECF6",
           "radialaxis": {
            "gridcolor": "white",
            "linecolor": "white",
            "ticks": ""
           }
          },
          "scene": {
           "xaxis": {
            "backgroundcolor": "#E5ECF6",
            "gridcolor": "white",
            "gridwidth": 2,
            "linecolor": "white",
            "showbackground": true,
            "ticks": "",
            "zerolinecolor": "white"
           },
           "yaxis": {
            "backgroundcolor": "#E5ECF6",
            "gridcolor": "white",
            "gridwidth": 2,
            "linecolor": "white",
            "showbackground": true,
            "ticks": "",
            "zerolinecolor": "white"
           },
           "zaxis": {
            "backgroundcolor": "#E5ECF6",
            "gridcolor": "white",
            "gridwidth": 2,
            "linecolor": "white",
            "showbackground": true,
            "ticks": "",
            "zerolinecolor": "white"
           }
          },
          "shapedefaults": {
           "line": {
            "color": "#2a3f5f"
           }
          },
          "ternary": {
           "aaxis": {
            "gridcolor": "white",
            "linecolor": "white",
            "ticks": ""
           },
           "baxis": {
            "gridcolor": "white",
            "linecolor": "white",
            "ticks": ""
           },
           "bgcolor": "#E5ECF6",
           "caxis": {
            "gridcolor": "white",
            "linecolor": "white",
            "ticks": ""
           }
          },
          "title": {
           "x": 0.05
          },
          "xaxis": {
           "automargin": true,
           "gridcolor": "white",
           "linecolor": "white",
           "ticks": "",
           "title": {
            "standoff": 15
           },
           "zerolinecolor": "white",
           "zerolinewidth": 2
          },
          "yaxis": {
           "automargin": true,
           "gridcolor": "white",
           "linecolor": "white",
           "ticks": "",
           "title": {
            "standoff": 15
           },
           "zerolinecolor": "white",
           "zerolinewidth": 2
          }
         }
        },
        "title": {
         "text": "Fig. 9 - Exited clients distribution by country",
         "x": 0.5,
         "xanchor": "center",
         "y": 0.05
        },
        "width": 600
       }
      }
     },
     "metadata": {},
     "output_type": "display_data"
    }
   ],
   "source": [
    "#df = churn_data.groupby(['Geography'], as_index=False).mean(numeric_only=True)\n",
    "df = churn_df[churn_df['Exited']==1].groupby(by='Geography', as_index=False).agg('count')\n",
    "#Количество \n",
    "display(df[['Geography', 'Exited']])\n",
    "\n",
    "# построим картограмму с помощью библиотеки Plotly\n",
    "fig = px.choropleth(\n",
    "    df,\n",
    "    locations=\"Geography\",\n",
    "    locationmode = \"country names\",\n",
    "    color='Exited', \n",
    "    width=600,\n",
    "    height=400,\n",
    "    color_continuous_scale=\"Peach\", # Burg\n",
    "    scope='europe',\n",
    ")\n",
    "fig.update_layout(title=dict(text='Fig. 9 - Exited clients distribution by country', x=.5, y=0.05, xanchor='center')\n",
    ")\n",
    "fig.update_geos(\n",
    "    center=dict(lon=2, lat=50),\n",
    "    lataxis_range=[-5,20], \n",
    "    lonaxis_range=[38, 51]\n",
    ")\n",
    "\n",
    "fig.show()\n",
    "fig.write_image('../figures/fig_9.png', engine=\"kaleido\")"
   ]
  },
  {
   "attachments": {},
   "cell_type": "markdown",
   "metadata": {},
   "source": [
    "<center> <img src = \"../figures/fig_9.png\"> </center>\n",
    "\n",
    "Fig 9 represent clients status distribution by countries. Analyzing the diagram one can conclude that exited clients live in following countries: Germany(40%) , France(40%), Spain(20%)"
   ]
  },
  {
   "attachments": {},
   "cell_type": "markdown",
   "metadata": {},
   "source": [
    "# Credit score vs tenure"
   ]
  },
  {
   "cell_type": "code",
   "execution_count": 12,
   "metadata": {},
   "outputs": [
    {
     "data": {
      "image/png": "[encoded data removed]",
      "text/plain": [
       "<Figure size 600x300 with 2 Axes>"
      ]
     },
     "metadata": {},
     "output_type": "display_data"
    }
   ],
   "source": [
    "# rating split by 5 groups\n",
    "def get_credit_score_cat(credit_score):\n",
    "    if credit_score >= 300 and credit_score < 500:\n",
    "        return \"Very_Poor\"\n",
    "    elif credit_score >= 500 and credit_score < 601:\n",
    "        return \"Poor\"\n",
    "    elif credit_score >= 601 and credit_score < 661:\n",
    "        return \"Fair\"\n",
    "    elif credit_score >= 661 and credit_score < 781:\n",
    "        return \"Good\"\n",
    "    elif credit_score >= 781 and credit_score < 851:\n",
    "        return \"Excellent\"\n",
    "    elif credit_score >= 851:\n",
    "        return \"Top\"\n",
    "    elif credit_score < 300:\n",
    "        return \"Deep\"\n",
    "    \n",
    "# Create a new feature 'CreditScoreCat'\n",
    "churn_df['CreditScoreCat'] = churn_df['CreditScore'].apply(get_credit_score_cat) \n",
    "\n",
    "fig = plt.figure(figsize=(6, 3))\n",
    "ax = fig.add_axes((0, 0, 1, 1))\n",
    "\n",
    "df = churn_df.pivot_table(values='Exited', index='CreditScoreCat', columns='Tenure', aggfunc='mean')\n",
    "\n",
    "sns.heatmap(df, annot=True, cmap= 'coolwarm'); #linewidths=.05\n",
    "\n",
    "ax.set_title('Fig.10 - Credit rating by account tenure', fontsize=12, y=-0.3)\n",
    "ax.set_xlabel('Bank usage tenure, years')\n",
    "ax.set_ylabel('Credit rating cathegory');\n",
    "\n",
    "plt.savefig(f'../figures/fig_10.png')"
   ]
  },
  {
   "attachments": {},
   "cell_type": "markdown",
   "metadata": {},
   "source": [
    "Fig.10 represents the credit rating distribution by account tenure in years. Analyzing the figure it can be noted:\n",
    "* clients with a very poor credit rating are prone to leave the bank despite their account tenure. Maximum probability of exiting is noted within the years: 0, 3, 4 and 10.\n",
    "* clients in other groups do not show significant tendency to exit\n",
    "\n",
    "It can be recommended to point attention on that customer group."
   ]
  },
  {
   "attachments": {},
   "cell_type": "markdown",
   "metadata": {},
   "source": [
    "## Correlation between features"
   ]
  },
  {
   "cell_type": "code",
   "execution_count": 13,
   "metadata": {},
   "outputs": [
    {
     "data": {
      "image/png": "[encoded data removed]",
      "text/plain": [
       "<Figure size 600x400 with 2 Axes>"
      ]
     },
     "metadata": {},
     "output_type": "display_data"
    }
   ],
   "source": [
    "# let us delete repetitive features\n",
    "churn_df.drop(['client status', 'CreditScoreCat'], axis=1, inplace=True)\n",
    "\n",
    "fig = plt.figure(figsize=(6, 4))\n",
    "ax = fig.add_axes((0, 0, 1, 1))\n",
    "matrix = np.triu(churn_df.corr(numeric_only=True))\n",
    "\n",
    "fig = sns.heatmap(churn_df.corr(numeric_only=True).round(2), annot=True, fmt='.1g', vmax=0.5, mask=matrix) #, vmax=0.3\n",
    "ax.set_title('Fig. 11 - Features correlation heatmap', fontsize=12, y=-0.5);\n",
    "plt.savefig('../figures/fig_11.png')"
   ]
  },
  {
   "attachments": {},
   "cell_type": "markdown",
   "metadata": {},
   "source": [
    "As it can be seen from the heatmap on the fig. 11 one can admit:\n",
    "* the correlation values do not exceed some 0.3. Thus, there is no multicollinearity between features\n",
    "* maximal positive correlation is observed between the client's age and his status (target value). One can say elder clients leave the bank;\n",
    "* maximal negative correlation is observed between the client's balance  and the Number of products. The higher the balance the lower the number of services used by the client.\n"
   ]
  },
  {
   "attachments": {},
   "cell_type": "markdown",
   "metadata": {},
   "source": [
    "# Feature Engineering.\n",
    "\n",
    "Let us create new features:\n",
    "* BalanceSalaryRatio — balance to salary ratio;\n",
    "* TenureByAge — tenure by age ratio;\n",
    "* CreditScoreGivenAge — credit ration to age ratio."
   ]
  },
  {
   "cell_type": "code",
   "execution_count": 14,
   "metadata": {},
   "outputs": [
    {
     "data": {
      "text/html": [
       "<div>\n",
       "<style scoped>\n",
       "    .dataframe tbody tr th:only-of-type {\n",
       "        vertical-align: middle;\n",
       "    }\n",
       "\n",
       "    .dataframe tbody tr th {\n",
       "        vertical-align: top;\n",
       "    }\n",
       "\n",
       "    .dataframe thead th {\n",
       "        text-align: right;\n",
       "    }\n",
       "</style>\n",
       "<table border=\"1\" class=\"dataframe\">\n",
       "  <thead>\n",
       "    <tr style=\"text-align: right;\">\n",
       "      <th></th>\n",
       "      <th>RowNumber</th>\n",
       "      <th>CustomerId</th>\n",
       "      <th>Surname</th>\n",
       "      <th>CreditScore</th>\n",
       "      <th>Geography</th>\n",
       "      <th>Gender</th>\n",
       "      <th>Age</th>\n",
       "      <th>Tenure</th>\n",
       "      <th>Balance</th>\n",
       "      <th>NumOfProducts</th>\n",
       "      <th>HasCrCard</th>\n",
       "      <th>IsActiveMember</th>\n",
       "      <th>EstimatedSalary</th>\n",
       "      <th>Exited</th>\n",
       "      <th>BalanceSalaryRatio</th>\n",
       "      <th>TenureByAge</th>\n",
       "      <th>CreditScoreGivenAge</th>\n",
       "    </tr>\n",
       "  </thead>\n",
       "  <tbody>\n",
       "    <tr>\n",
       "      <th>0</th>\n",
       "      <td>1</td>\n",
       "      <td>15634602</td>\n",
       "      <td>Hargrave</td>\n",
       "      <td>619</td>\n",
       "      <td>France</td>\n",
       "      <td>Female</td>\n",
       "      <td>42</td>\n",
       "      <td>2</td>\n",
       "      <td>0.00</td>\n",
       "      <td>1</td>\n",
       "      <td>1</td>\n",
       "      <td>1</td>\n",
       "      <td>101348.88</td>\n",
       "      <td>1</td>\n",
       "      <td>0.000000</td>\n",
       "      <td>0.047619</td>\n",
       "      <td>14.738095</td>\n",
       "    </tr>\n",
       "    <tr>\n",
       "      <th>1</th>\n",
       "      <td>2</td>\n",
       "      <td>15647311</td>\n",
       "      <td>Hill</td>\n",
       "      <td>608</td>\n",
       "      <td>Spain</td>\n",
       "      <td>Female</td>\n",
       "      <td>41</td>\n",
       "      <td>1</td>\n",
       "      <td>83807.86</td>\n",
       "      <td>1</td>\n",
       "      <td>0</td>\n",
       "      <td>1</td>\n",
       "      <td>112542.58</td>\n",
       "      <td>0</td>\n",
       "      <td>0.744677</td>\n",
       "      <td>0.024390</td>\n",
       "      <td>14.829268</td>\n",
       "    </tr>\n",
       "    <tr>\n",
       "      <th>2</th>\n",
       "      <td>3</td>\n",
       "      <td>15619304</td>\n",
       "      <td>Onio</td>\n",
       "      <td>502</td>\n",
       "      <td>France</td>\n",
       "      <td>Female</td>\n",
       "      <td>42</td>\n",
       "      <td>8</td>\n",
       "      <td>159660.80</td>\n",
       "      <td>3</td>\n",
       "      <td>1</td>\n",
       "      <td>0</td>\n",
       "      <td>113931.57</td>\n",
       "      <td>1</td>\n",
       "      <td>1.401375</td>\n",
       "      <td>0.190476</td>\n",
       "      <td>11.952381</td>\n",
       "    </tr>\n",
       "    <tr>\n",
       "      <th>3</th>\n",
       "      <td>4</td>\n",
       "      <td>15701354</td>\n",
       "      <td>Boni</td>\n",
       "      <td>699</td>\n",
       "      <td>France</td>\n",
       "      <td>Female</td>\n",
       "      <td>39</td>\n",
       "      <td>1</td>\n",
       "      <td>0.00</td>\n",
       "      <td>2</td>\n",
       "      <td>0</td>\n",
       "      <td>0</td>\n",
       "      <td>93826.63</td>\n",
       "      <td>0</td>\n",
       "      <td>0.000000</td>\n",
       "      <td>0.025641</td>\n",
       "      <td>17.923077</td>\n",
       "    </tr>\n",
       "    <tr>\n",
       "      <th>4</th>\n",
       "      <td>5</td>\n",
       "      <td>15737888</td>\n",
       "      <td>Mitchell</td>\n",
       "      <td>850</td>\n",
       "      <td>Spain</td>\n",
       "      <td>Female</td>\n",
       "      <td>43</td>\n",
       "      <td>2</td>\n",
       "      <td>125510.82</td>\n",
       "      <td>1</td>\n",
       "      <td>1</td>\n",
       "      <td>1</td>\n",
       "      <td>79084.10</td>\n",
       "      <td>0</td>\n",
       "      <td>1.587055</td>\n",
       "      <td>0.046512</td>\n",
       "      <td>19.767442</td>\n",
       "    </tr>\n",
       "  </tbody>\n",
       "</table>\n",
       "</div>"
      ],
      "text/plain": [
       "   RowNumber  CustomerId   Surname  CreditScore Geography  Gender  Age  \\\n",
       "0          1    15634602  Hargrave          619    France  Female   42   \n",
       "1          2    15647311      Hill          608     Spain  Female   41   \n",
       "2          3    15619304      Onio          502    France  Female   42   \n",
       "3          4    15701354      Boni          699    France  Female   39   \n",
       "4          5    15737888  Mitchell          850     Spain  Female   43   \n",
       "\n",
       "   Tenure    Balance  NumOfProducts  HasCrCard  IsActiveMember  \\\n",
       "0       2       0.00              1          1               1   \n",
       "1       1   83807.86              1          0               1   \n",
       "2       8  159660.80              3          1               0   \n",
       "3       1       0.00              2          0               0   \n",
       "4       2  125510.82              1          1               1   \n",
       "\n",
       "   EstimatedSalary  Exited  BalanceSalaryRatio  TenureByAge  \\\n",
       "0        101348.88       1            0.000000     0.047619   \n",
       "1        112542.58       0            0.744677     0.024390   \n",
       "2        113931.57       1            1.401375     0.190476   \n",
       "3         93826.63       0            0.000000     0.025641   \n",
       "4         79084.10       0            1.587055     0.046512   \n",
       "\n",
       "   CreditScoreGivenAge  \n",
       "0            14.738095  \n",
       "1            14.829268  \n",
       "2            11.952381  \n",
       "3            17.923077  \n",
       "4            19.767442  "
      ]
     },
     "execution_count": 14,
     "metadata": {},
     "output_type": "execute_result"
    }
   ],
   "source": [
    "churn_data['BalanceSalaryRatio'] = churn_data['Balance']/churn_data['EstimatedSalary']\n",
    "churn_data['TenureByAge'] = churn_data['Tenure']/(churn_data['Age'])\n",
    "churn_data['CreditScoreGivenAge'] = churn_data['CreditScore']/(churn_data['Age'])\n",
    "\n",
    "churn_data.head()"
   ]
  },
  {
   "attachments": {},
   "cell_type": "markdown",
   "id": "7f93b505-3e23-49ce-953c-d5a5d0d845d2",
   "metadata": {
    "id": "7f93b505-3e23-49ce-953c-d5a5d0d845d2",
    "tags": []
   },
   "source": [
    "# Modelling: Germany"
   ]
  },
  {
   "attachments": {},
   "cell_type": "markdown",
   "metadata": {},
   "source": [
    "Suppose causes of the client outflow are varying by country. So let us create different models for each county. "
   ]
  },
  {
   "cell_type": "code",
   "execution_count": 15,
   "metadata": {},
   "outputs": [
    {
     "name": "stdout",
     "output_type": "stream",
     "text": [
      "Shape: (2509, 11)\n"
     ]
    },
    {
     "data": {
      "text/html": [
       "<div>\n",
       "<style scoped>\n",
       "    .dataframe tbody tr th:only-of-type {\n",
       "        vertical-align: middle;\n",
       "    }\n",
       "\n",
       "    .dataframe tbody tr th {\n",
       "        vertical-align: top;\n",
       "    }\n",
       "\n",
       "    .dataframe thead th {\n",
       "        text-align: right;\n",
       "    }\n",
       "</style>\n",
       "<table border=\"1\" class=\"dataframe\">\n",
       "  <thead>\n",
       "    <tr style=\"text-align: right;\">\n",
       "      <th></th>\n",
       "      <th>CreditScore</th>\n",
       "      <th>Geography</th>\n",
       "      <th>Gender</th>\n",
       "      <th>Age</th>\n",
       "      <th>Tenure</th>\n",
       "      <th>Balance</th>\n",
       "      <th>NumOfProducts</th>\n",
       "      <th>HasCrCard</th>\n",
       "      <th>IsActiveMember</th>\n",
       "      <th>EstimatedSalary</th>\n",
       "      <th>Exited</th>\n",
       "    </tr>\n",
       "  </thead>\n",
       "  <tbody>\n",
       "    <tr>\n",
       "      <th>7</th>\n",
       "      <td>376</td>\n",
       "      <td>Germany</td>\n",
       "      <td>0</td>\n",
       "      <td>29</td>\n",
       "      <td>4</td>\n",
       "      <td>115046.74</td>\n",
       "      <td>4</td>\n",
       "      <td>1</td>\n",
       "      <td>0</td>\n",
       "      <td>119346.88</td>\n",
       "      <td>1</td>\n",
       "    </tr>\n",
       "    <tr>\n",
       "      <th>15</th>\n",
       "      <td>616</td>\n",
       "      <td>Germany</td>\n",
       "      <td>1</td>\n",
       "      <td>45</td>\n",
       "      <td>3</td>\n",
       "      <td>143129.41</td>\n",
       "      <td>2</td>\n",
       "      <td>0</td>\n",
       "      <td>1</td>\n",
       "      <td>64327.26</td>\n",
       "      <td>0</td>\n",
       "    </tr>\n",
       "    <tr>\n",
       "      <th>16</th>\n",
       "      <td>653</td>\n",
       "      <td>Germany</td>\n",
       "      <td>1</td>\n",
       "      <td>58</td>\n",
       "      <td>1</td>\n",
       "      <td>132602.88</td>\n",
       "      <td>1</td>\n",
       "      <td>1</td>\n",
       "      <td>0</td>\n",
       "      <td>5097.67</td>\n",
       "      <td>1</td>\n",
       "    </tr>\n",
       "    <tr>\n",
       "      <th>26</th>\n",
       "      <td>756</td>\n",
       "      <td>Germany</td>\n",
       "      <td>1</td>\n",
       "      <td>36</td>\n",
       "      <td>2</td>\n",
       "      <td>136815.64</td>\n",
       "      <td>1</td>\n",
       "      <td>1</td>\n",
       "      <td>1</td>\n",
       "      <td>170041.95</td>\n",
       "      <td>0</td>\n",
       "    </tr>\n",
       "    <tr>\n",
       "      <th>28</th>\n",
       "      <td>574</td>\n",
       "      <td>Germany</td>\n",
       "      <td>0</td>\n",
       "      <td>43</td>\n",
       "      <td>3</td>\n",
       "      <td>141349.43</td>\n",
       "      <td>1</td>\n",
       "      <td>1</td>\n",
       "      <td>1</td>\n",
       "      <td>100187.43</td>\n",
       "      <td>0</td>\n",
       "    </tr>\n",
       "  </tbody>\n",
       "</table>\n",
       "</div>"
      ],
      "text/plain": [
       "    CreditScore Geography Gender  Age  Tenure    Balance  NumOfProducts  \\\n",
       "7           376   Germany      0   29       4  115046.74              4   \n",
       "15          616   Germany      1   45       3  143129.41              2   \n",
       "16          653   Germany      1   58       1  132602.88              1   \n",
       "26          756   Germany      1   36       2  136815.64              1   \n",
       "28          574   Germany      0   43       3  141349.43              1   \n",
       "\n",
       "    HasCrCard  IsActiveMember  EstimatedSalary  Exited  \n",
       "7           1               0        119346.88       1  \n",
       "15          0               1         64327.26       0  \n",
       "16          1               0          5097.67       1  \n",
       "26          1               1        170041.95       0  \n",
       "28          1               1        100187.43       0  "
      ]
     },
     "execution_count": 15,
     "metadata": {},
     "output_type": "execute_result"
    }
   ],
   "source": [
    "churn_data_cleaned = churn_df[churn_df['Geography'] == 'Germany']\n",
    "print('Shape:', churn_data_cleaned.shape)\n",
    "# (2509, 14)\n",
    "churn_data_cleaned.head()"
   ]
  },
  {
   "attachments": {},
   "cell_type": "markdown",
   "metadata": {},
   "source": [
    "Let us delete non informative features."
   ]
  },
  {
   "cell_type": "code",
   "execution_count": 16,
   "metadata": {},
   "outputs": [
    {
     "name": "stdout",
     "output_type": "stream",
     "text": [
      "Shape: (2509, 9)\n"
     ]
    },
    {
     "data": {
      "text/html": [
       "<div>\n",
       "<style scoped>\n",
       "    .dataframe tbody tr th:only-of-type {\n",
       "        vertical-align: middle;\n",
       "    }\n",
       "\n",
       "    .dataframe tbody tr th {\n",
       "        vertical-align: top;\n",
       "    }\n",
       "\n",
       "    .dataframe thead th {\n",
       "        text-align: right;\n",
       "    }\n",
       "</style>\n",
       "<table border=\"1\" class=\"dataframe\">\n",
       "  <thead>\n",
       "    <tr style=\"text-align: right;\">\n",
       "      <th></th>\n",
       "      <th>CreditScore</th>\n",
       "      <th>Age</th>\n",
       "      <th>Tenure</th>\n",
       "      <th>Balance</th>\n",
       "      <th>NumOfProducts</th>\n",
       "      <th>HasCrCard</th>\n",
       "      <th>IsActiveMember</th>\n",
       "      <th>EstimatedSalary</th>\n",
       "      <th>Exited</th>\n",
       "    </tr>\n",
       "  </thead>\n",
       "  <tbody>\n",
       "    <tr>\n",
       "      <th>7</th>\n",
       "      <td>376</td>\n",
       "      <td>29</td>\n",
       "      <td>4</td>\n",
       "      <td>115046.74</td>\n",
       "      <td>4</td>\n",
       "      <td>1</td>\n",
       "      <td>0</td>\n",
       "      <td>119346.88</td>\n",
       "      <td>1</td>\n",
       "    </tr>\n",
       "    <tr>\n",
       "      <th>15</th>\n",
       "      <td>616</td>\n",
       "      <td>45</td>\n",
       "      <td>3</td>\n",
       "      <td>143129.41</td>\n",
       "      <td>2</td>\n",
       "      <td>0</td>\n",
       "      <td>1</td>\n",
       "      <td>64327.26</td>\n",
       "      <td>0</td>\n",
       "    </tr>\n",
       "    <tr>\n",
       "      <th>16</th>\n",
       "      <td>653</td>\n",
       "      <td>58</td>\n",
       "      <td>1</td>\n",
       "      <td>132602.88</td>\n",
       "      <td>1</td>\n",
       "      <td>1</td>\n",
       "      <td>0</td>\n",
       "      <td>5097.67</td>\n",
       "      <td>1</td>\n",
       "    </tr>\n",
       "    <tr>\n",
       "      <th>26</th>\n",
       "      <td>756</td>\n",
       "      <td>36</td>\n",
       "      <td>2</td>\n",
       "      <td>136815.64</td>\n",
       "      <td>1</td>\n",
       "      <td>1</td>\n",
       "      <td>1</td>\n",
       "      <td>170041.95</td>\n",
       "      <td>0</td>\n",
       "    </tr>\n",
       "    <tr>\n",
       "      <th>28</th>\n",
       "      <td>574</td>\n",
       "      <td>43</td>\n",
       "      <td>3</td>\n",
       "      <td>141349.43</td>\n",
       "      <td>1</td>\n",
       "      <td>1</td>\n",
       "      <td>1</td>\n",
       "      <td>100187.43</td>\n",
       "      <td>0</td>\n",
       "    </tr>\n",
       "  </tbody>\n",
       "</table>\n",
       "</div>"
      ],
      "text/plain": [
       "    CreditScore  Age  Tenure    Balance  NumOfProducts  HasCrCard  \\\n",
       "7           376   29       4  115046.74              4          1   \n",
       "15          616   45       3  143129.41              2          0   \n",
       "16          653   58       1  132602.88              1          1   \n",
       "26          756   36       2  136815.64              1          1   \n",
       "28          574   43       3  141349.43              1          1   \n",
       "\n",
       "    IsActiveMember  EstimatedSalary  Exited  \n",
       "7                0        119346.88       1  \n",
       "15               1         64327.26       0  \n",
       "16               0          5097.67       1  \n",
       "26               1        170041.95       0  \n",
       "28               1        100187.43       0  "
      ]
     },
     "execution_count": 16,
     "metadata": {},
     "output_type": "execute_result"
    }
   ],
   "source": [
    "churn_data_cleaned = churn_data_cleaned.drop(['Geography', 'Gender'], axis=1).rename(columns={'Пол':'Gender'}) #delete and rename features\n",
    "print('Shape:', churn_data_cleaned.shape)\n",
    "churn_data_cleaned.head()"
   ]
  },
  {
   "attachments": {},
   "cell_type": "markdown",
   "metadata": {},
   "source": [
    "### Check for missed data."
   ]
  },
  {
   "cell_type": "code",
   "execution_count": 17,
   "metadata": {},
   "outputs": [
    {
     "data": {
      "text/plain": [
       "CreditScore        0\n",
       "Age                0\n",
       "Tenure             0\n",
       "Balance            0\n",
       "NumOfProducts      0\n",
       "HasCrCard          0\n",
       "IsActiveMember     0\n",
       "EstimatedSalary    0\n",
       "Exited             0\n",
       "dtype: int64"
      ]
     },
     "execution_count": 17,
     "metadata": {},
     "output_type": "execute_result"
    }
   ],
   "source": [
    "churn_data_cleaned.isnull().sum()"
   ]
  },
  {
   "attachments": {},
   "cell_type": "markdown",
   "metadata": {},
   "source": [
    "Let us assign the target to a separate variable"
   ]
  },
  {
   "cell_type": "code",
   "execution_count": 18,
   "metadata": {},
   "outputs": [],
   "source": [
    "X, y = churn_data_cleaned.drop(\"Exited\", axis=1), churn_data_cleaned[\"Exited\"]"
   ]
  },
  {
   "attachments": {},
   "cell_type": "markdown",
   "metadata": {},
   "source": [
    "Normalization"
   ]
  },
  {
   "cell_type": "code",
   "execution_count": 19,
   "metadata": {},
   "outputs": [],
   "source": [
    "scaler = preprocessing.MinMaxScaler()\n",
    "scaler.fit(X)\n",
    "X_scaled = scaler.transform(X)"
   ]
  },
  {
   "attachments": {},
   "cell_type": "markdown",
   "metadata": {},
   "source": [
    "Let us study classes in target value."
   ]
  },
  {
   "cell_type": "code",
   "execution_count": 20,
   "metadata": {},
   "outputs": [
    {
     "data": {
      "image/png": "[encoded data removed]",
      "text/plain": [
       "<Figure size 600x300 with 1 Axes>"
      ]
     },
     "metadata": {},
     "output_type": "display_data"
    }
   ],
   "source": [
    "y.value_counts(normalize=True)\n",
    "\n",
    "fig, ax = plt.subplots(1, 1, figsize=(6, 3))\n",
    "fig = sns.countplot(data = churn_data, x='Exited');\n",
    "ax.set_title('Fig.12 - Classes in the target feature', y=-0.3)\n",
    "ax.set_xlabel('Classes');\n",
    "plt.savefig('../figures/fig_12.png')"
   ]
  },
  {
   "attachments": {},
   "cell_type": "markdown",
   "metadata": {},
   "source": [
    "As we can see from the histogram, data classes in the target value are unbalances. Therefore, we shall use straitfied \n",
    "split method."
   ]
  },
  {
   "attachments": {},
   "cell_type": "markdown",
   "metadata": {},
   "source": [
    "## Model logistic regression\n",
    "We will use $F1$-score to reach balance between $precision$ and $recall$ since we have unbalanced classes."
   ]
  },
  {
   "cell_type": "code",
   "execution_count": 21,
   "metadata": {},
   "outputs": [
    {
     "name": "stdout",
     "output_type": "stream",
     "text": [
      "Train shape: (1881, 8)\n",
      "Test shape: (628, 8)\n"
     ]
    }
   ],
   "source": [
    "X_train, X_test, y_train, y_test = train_test_split(X_scaled, y, stratify=y, random_state=0) #random_seed\n",
    "\n",
    "print('Train shape: {}'.format(X_train.shape))\n",
    "print('Test shape: {}'.format(X_test.shape))"
   ]
  },
  {
   "cell_type": "code",
   "execution_count": 22,
   "metadata": {},
   "outputs": [
    {
     "name": "stdout",
     "output_type": "stream",
     "text": [
      "Train shape: (1881, 8)\n",
      "Test shape: (628, 8)\n"
     ]
    }
   ],
   "source": [
    "print('Train shape: {}'.format(X_train.shape))\n",
    "print('Test shape: {}'.format(X_test.shape))"
   ]
  },
  {
   "attachments": {},
   "cell_type": "markdown",
   "metadata": {},
   "source": [
    "Проверим, что число лояльных и ушедших клиентов примерно одинаково в каждой из выборок:"
   ]
  },
  {
   "cell_type": "code",
   "execution_count": 23,
   "metadata": {},
   "outputs": [
    {
     "name": "stdout",
     "output_type": "stream",
     "text": [
      "Train :\n",
      " 0    0.68\n",
      "1    0.32\n",
      "Name: Exited, dtype: float64\n",
      "Test :\n",
      " 0    0.68\n",
      "1    0.32\n",
      "Name: Exited, dtype: float64\n"
     ]
    }
   ],
   "source": [
    "print('Train :\\n', y_train.value_counts(normalize=True).round(2))\n",
    "print('Test :\\n', y_test.value_counts(normalize=True).round(2))"
   ]
  },
  {
   "attachments": {},
   "cell_type": "markdown",
   "metadata": {},
   "source": [
    "### Model logistic regression"
   ]
  },
  {
   "cell_type": "code",
   "execution_count": 24,
   "id": "c018067a-dfe5-4df7-a1dd-268ab9b61664",
   "metadata": {
    "id": "c018067a-dfe5-4df7-a1dd-268ab9b61664",
    "outputId": "f54eb20a-5675-4aea-86be-ddd8b1db51bf"
   },
   "outputs": [
    {
     "data": {
      "text/html": [
       "<style>#sk-container-id-1 {color: black;background-color: white;}#sk-container-id-1 pre{padding: 0;}#sk-container-id-1 div.sk-toggleable {background-color: white;}#sk-container-id-1 label.sk-toggleable__label {cursor: pointer;display: block;width: 100%;margin-bottom: 0;padding: 0.3em;box-sizing: border-box;text-align: center;}#sk-container-id-1 label.sk-toggleable__label-arrow:before {content: \"▸\";float: left;margin-right: 0.25em;color: #696969;}#sk-container-id-1 label.sk-toggleable__label-arrow:hover:before {color: black;}#sk-container-id-1 div.sk-estimator:hover label.sk-toggleable__label-arrow:before {color: black;}#sk-container-id-1 div.sk-toggleable__content {max-height: 0;max-width: 0;overflow: hidden;text-align: left;background-color: #f0f8ff;}#sk-container-id-1 div.sk-toggleable__content pre {margin: 0.2em;color: black;border-radius: 0.25em;background-color: #f0f8ff;}#sk-container-id-1 input.sk-toggleable__control:checked~div.sk-toggleable__content {max-height: 200px;max-width: 100%;overflow: auto;}#sk-container-id-1 input.sk-toggleable__control:checked~label.sk-toggleable__label-arrow:before {content: \"▾\";}#sk-container-id-1 div.sk-estimator input.sk-toggleable__control:checked~label.sk-toggleable__label {background-color: #d4ebff;}#sk-container-id-1 div.sk-label input.sk-toggleable__control:checked~label.sk-toggleable__label {background-color: #d4ebff;}#sk-container-id-1 input.sk-hidden--visually {border: 0;clip: rect(1px 1px 1px 1px);clip: rect(1px, 1px, 1px, 1px);height: 1px;margin: -1px;overflow: hidden;padding: 0;position: absolute;width: 1px;}#sk-container-id-1 div.sk-estimator {font-family: monospace;background-color: #f0f8ff;border: 1px dotted black;border-radius: 0.25em;box-sizing: border-box;margin-bottom: 0.5em;}#sk-container-id-1 div.sk-estimator:hover {background-color: #d4ebff;}#sk-container-id-1 div.sk-parallel-item::after {content: \"\";width: 100%;border-bottom: 1px solid gray;flex-grow: 1;}#sk-container-id-1 div.sk-label:hover label.sk-toggleable__label {background-color: #d4ebff;}#sk-container-id-1 div.sk-serial::before {content: \"\";position: absolute;border-left: 1px solid gray;box-sizing: border-box;top: 0;bottom: 0;left: 50%;z-index: 0;}#sk-container-id-1 div.sk-serial {display: flex;flex-direction: column;align-items: center;background-color: white;padding-right: 0.2em;padding-left: 0.2em;position: relative;}#sk-container-id-1 div.sk-item {position: relative;z-index: 1;}#sk-container-id-1 div.sk-parallel {display: flex;align-items: stretch;justify-content: center;background-color: white;position: relative;}#sk-container-id-1 div.sk-item::before, #sk-container-id-1 div.sk-parallel-item::before {content: \"\";position: absolute;border-left: 1px solid gray;box-sizing: border-box;top: 0;bottom: 0;left: 50%;z-index: -1;}#sk-container-id-1 div.sk-parallel-item {display: flex;flex-direction: column;z-index: 1;position: relative;background-color: white;}#sk-container-id-1 div.sk-parallel-item:first-child::after {align-self: flex-end;width: 50%;}#sk-container-id-1 div.sk-parallel-item:last-child::after {align-self: flex-start;width: 50%;}#sk-container-id-1 div.sk-parallel-item:only-child::after {width: 0;}#sk-container-id-1 div.sk-dashed-wrapped {border: 1px dashed gray;margin: 0 0.4em 0.5em 0.4em;box-sizing: border-box;padding-bottom: 0.4em;background-color: white;}#sk-container-id-1 div.sk-label label {font-family: monospace;font-weight: bold;display: inline-block;line-height: 1.2em;}#sk-container-id-1 div.sk-label-container {text-align: center;}#sk-container-id-1 div.sk-container {/* jupyter's `normalize.less` sets `[hidden] { display: none; }` but bootstrap.min.css set `[hidden] { display: none !important; }` so we also need the `!important` here to be able to override the default hidden behavior on the sphinx rendered scikit-learn.org. See: https://github.com/scikit-learn/scikit-learn/issues/21755 */display: inline-block !important;position: relative;}#sk-container-id-1 div.sk-text-repr-fallback {display: none;}</style><div id=\"sk-container-id-1\" class=\"sk-top-container\"><div class=\"sk-text-repr-fallback\"><pre>LogisticRegression(class_weight=&#x27;balanced&#x27;, max_iter=1000, random_state=0,\n",
       "                   solver=&#x27;sag&#x27;)</pre><b>In a Jupyter environment, please rerun this cell to show the HTML representation or trust the notebook. <br />On GitHub, the HTML representation is unable to render, please try loading this page with nbviewer.org.</b></div><div class=\"sk-container\" hidden><div class=\"sk-item\"><div class=\"sk-estimator sk-toggleable\"><input class=\"sk-toggleable__control sk-hidden--visually\" id=\"sk-estimator-id-1\" type=\"checkbox\" checked><label for=\"sk-estimator-id-1\" class=\"sk-toggleable__label sk-toggleable__label-arrow\">LogisticRegression</label><div class=\"sk-toggleable__content\"><pre>LogisticRegression(class_weight=&#x27;balanced&#x27;, max_iter=1000, random_state=0,\n",
       "                   solver=&#x27;sag&#x27;)</pre></div></div></div></div></div>"
      ],
      "text/plain": [
       "LogisticRegression(class_weight='balanced', max_iter=1000, random_state=0,\n",
       "                   solver='sag')"
      ]
     },
     "execution_count": 24,
     "metadata": {},
     "output_type": "execute_result"
    }
   ],
   "source": [
    "# Creation of an instance of the log model\n",
    "log_reg = linear_model.LogisticRegression(\n",
    "    solver='sag', #optimization algorythm\n",
    "    class_weight='balanced', # balancing classes weights\n",
    "    random_state=0, \n",
    "    max_iter=1000  \n",
    ")\n",
    "# Training the model\n",
    "log_reg.fit(X_train, y_train)"
   ]
  },
  {
   "cell_type": "code",
   "execution_count": 25,
   "id": "ac736f2d-ffb8-4fa1-b97d-5f8f1ee09fce",
   "metadata": {
    "id": "ac736f2d-ffb8-4fa1-b97d-5f8f1ee09fce",
    "outputId": "22e6ffe3-47a6-4f23-abf9-7c9d579c3573"
   },
   "outputs": [
    {
     "name": "stdout",
     "output_type": "stream",
     "text": [
      "              precision    recall  f1-score   support\n",
      "\n",
      "           0       0.81      0.67      0.73       424\n",
      "           1       0.49      0.67      0.57       204\n",
      "\n",
      "    accuracy                           0.67       628\n",
      "   macro avg       0.65      0.67      0.65       628\n",
      "weighted avg       0.71      0.67      0.68       628\n",
      "\n",
      "F1 score for test: 0.57\n"
     ]
    }
   ],
   "source": [
    "# Prediction for trainand valid samples\n",
    "y_train_pred = log_reg.predict(X_train)\n",
    "y_test_pred = log_reg.predict(X_test)\n",
    "\n",
    "# Metrix report\n",
    "print(metrics.classification_report(y_test, y_test_pred))\n",
    "\n",
    "#print('F1 score for train: {:.2f}'.format(metrics.f1_score(y_train, y_train_pred)))\n",
    "print('F1 score for test: {:.2f}'.format(metrics.f1_score(y_test, y_test_pred)))"
   ]
  },
  {
   "attachments": {},
   "cell_type": "markdown",
   "metadata": {},
   "source": [
    "### Polynomial regression of 3d power"
   ]
  },
  {
   "cell_type": "code",
   "execution_count": 26,
   "metadata": {},
   "outputs": [
    {
     "name": "stdout",
     "output_type": "stream",
     "text": [
      "(1881, 164)\n",
      "(628, 164)\n",
      "Number of polynomial features: 164\n"
     ]
    }
   ],
   "source": [
    "# Creation of a generator of polynomial features\n",
    "poly = preprocessing.PolynomialFeatures(degree=3, include_bias=False)\n",
    "poly.fit(X_train)\n",
    "# Features generation\n",
    "X_train_poly = poly.transform(X_train)\n",
    "X_test_poly = poly.transform(X_test)\n",
    "# get results\n",
    "print(X_train_poly.shape)\n",
    "print(X_test_poly.shape)\n",
    "\n",
    "print(f'Number of polynomial features:',X_train_poly.shape[1])"
   ]
  },
  {
   "cell_type": "code",
   "execution_count": 27,
   "metadata": {},
   "outputs": [
    {
     "name": "stdout",
     "output_type": "stream",
     "text": [
      "              precision    recall  f1-score   support\n",
      "\n",
      "           0       0.80      0.91      0.85       424\n",
      "           1       0.73      0.52      0.61       204\n",
      "\n",
      "    accuracy                           0.78       628\n",
      "   macro avg       0.76      0.71      0.73       628\n",
      "weighted avg       0.78      0.78      0.77       628\n",
      "\n",
      "F1-score for validation sample: 0.61\n"
     ]
    }
   ],
   "source": [
    "# Creation an instance of the Logistics regression class\n",
    "log_reg = linear_model.LogisticRegression(\n",
    "    solver='sag', # optimization algorythm\n",
    "    random_state=random_seed,\n",
    "    max_iter=1000  \n",
    ")\n",
    "# Train the Model minimizing the logloss\n",
    "log_reg.fit(X_train_poly, y_train)\n",
    "\n",
    "# Prediction for train data and validation data\n",
    "y_train_pred = log_reg.predict(X_train_poly)\n",
    "y_test_pred = log_reg.predict(X_test_poly)\n",
    "\n",
    "# Calculation of metrics\n",
    "print(metrics.classification_report(y_test, y_test_pred))\n",
    "\n",
    "# Creation of the metrics report\n",
    "print('F1-score for validation sample: {:.2f}'.format(metrics.f1_score(y_test, y_test_pred)))"
   ]
  },
  {
   "attachments": {},
   "cell_type": "markdown",
   "metadata": {},
   "source": [
    "### Optimization of the probability threshold for log regression model"
   ]
  },
  {
   "cell_type": "code",
   "execution_count": 28,
   "id": "fa64be50-fe56-4e53-acdf-cab5c418970f",
   "metadata": {},
   "outputs": [
    {
     "data": {
      "image/png": "[encoded data removed]",
      "text/plain": [
       "<Figure size 800x300 with 1 Axes>"
      ]
     },
     "metadata": {},
     "output_type": "display_data"
    }
   ],
   "source": [
    "# Calculation of exiting probabilities for log regression\n",
    "y_test_proba_pred = log_reg.predict_proba(X_test_poly)[:, 1]\n",
    "\n",
    "# Empty lists to store results \n",
    "recall_scores, precision_scores, f1_scores = [], [], []\n",
    "\n",
    "# Create 20 values of alpha between 0.1 and 1\n",
    "thresholds = np.arange(0.1, 1, 0.05)\n",
    "\n",
    "# calculation for each threshold\n",
    "for threshold in thresholds:\n",
    "    # clients with the probability > threshold assign to the class 1, else - to class 0\n",
    "    y_test_pred = np.where(y_test_proba_pred>threshold,1,0)\n",
    "    #y_test_proba_pred.apply(lambda x: 1 if x> else 0)\n",
    "    \n",
    "    # add calculated metrics to the list\n",
    "    recall_scores.append(metrics.recall_score(y_test, y_test_pred))\n",
    "    precision_scores.append(metrics.precision_score(y_test, y_test_pred))\n",
    "    f1_scores.append(metrics.f1_score(y_test, y_test_pred))\n",
    "\n",
    "# Visualization of the prediction errors\n",
    "fig, ax = plt.subplots(figsize=(8, 3)) \n",
    "ax.plot(thresholds, recall_scores, label='Recall')\n",
    "ax.plot(thresholds, precision_scores, label='Precision')\n",
    "\n",
    "# Major ticks every 20, minor ticks every 5\n",
    "#major_ticks = np.arange(0, 101, 20)\n",
    "minor_ticks = np.arange(0, 1, 0.05)\n",
    "ax.set_xticks(minor_ticks, minor=True)\n",
    "\n",
    "ax.plot(thresholds, f1_scores, label='F1-score')\n",
    "ax.set_title('Fig.13 - Metrics vs probability threshold', y=-0.4)\n",
    "ax.set_xlabel('Probability threshold')\n",
    "ax.set_ylabel('Score')\n",
    "ax.legend()\n",
    "ax.grid()\n",
    "ax.grid(which='minor', alpha=0.2);\n",
    "\n",
    "plt.savefig('../figures/fig_13.png')"
   ]
  },
  {
   "attachments": {},
   "cell_type": "markdown",
   "id": "d5a385e9",
   "metadata": {},
   "source": [
    "The fig.13 displays metrics change by the probability threshold. Analyzing the graph it is possible to infer:\n",
    "* model precision rises when the probability increases. The recall metrics, however, decreases stadily. It implies when we move the threshold value closer to 1 we classify cients as 'exited' only when we become more and more confident in it.\n",
    "* the F1-score rises stadily until it reaches 0.68 (threshold=0.3) and then goes downward. \n",
    "* all 3 metrics have a common value 0.4."
   ]
  },
  {
   "cell_type": "code",
   "execution_count": 29,
   "metadata": {},
   "outputs": [
    {
     "name": "stdout",
     "output_type": "stream",
     "text": [
      "Max f1-score: 0.682 at the probability: 0.3\n"
     ]
    }
   ],
   "source": [
    "f1_scores = np.array(f1_scores)\n",
    "\n",
    "# index of the highest f1-score\n",
    "best_f1_score = thresholds[np.argmax(f1_scores)].round(2)\n",
    "\n",
    "print(f'Max f1-score: {np.max(f1_scores).round(3)} at the probability: {best_f1_score}')"
   ]
  },
  {
   "cell_type": "code",
   "execution_count": 30,
   "id": "20f8d690-be75-4017-b209-f0f7d71e4b86",
   "metadata": {},
   "outputs": [
    {
     "name": "stdout",
     "output_type": "stream",
     "text": [
      "              precision    recall  f1-score   support\n",
      "\n",
      "           0       0.89      0.71      0.79       424\n",
      "           1       0.58      0.82      0.68       204\n",
      "\n",
      "    accuracy                           0.75       628\n",
      "   macro avg       0.74      0.77      0.74       628\n",
      "weighted avg       0.79      0.75      0.76       628\n",
      "\n",
      "F1 score for validation sample: 0.682\n"
     ]
    }
   ],
   "source": [
    "# Set optimal threshold\n",
    "threshold_opt = best_f1_score\n",
    "# Set classes: 1 for clients whose probability of exit is above threshold, else class 0\n",
    "#y_pred_opt = y_test_proba_pred.apply(lambda x: 1 if x > threshold_opt else 0)\n",
    "y_pred_opt = np.where(y_test_proba_pred>threshold_opt,1,0)\n",
    "\n",
    "# calculation of metrics\n",
    "print(metrics.classification_report(y_test, y_pred_opt))\n",
    "print(f'F1 score for validation sample: {metrics.f1_score(y_test, y_pred_opt).round(3)}')"
   ]
  },
  {
   "attachments": {},
   "cell_type": "markdown",
   "metadata": {},
   "source": [
    "### Decison tree model"
   ]
  },
  {
   "cell_type": "code",
   "execution_count": 31,
   "metadata": {},
   "outputs": [
    {
     "name": "stdout",
     "output_type": "stream",
     "text": [
      "Train: 0.71\n",
      "Test: 0.64\n"
     ]
    }
   ],
   "source": [
    "# Creation an instance of the Decision tree class\n",
    "dt = tree.DecisionTreeClassifier(\n",
    "    criterion='entropy', #критерий информативности \n",
    "    max_depth=8, #максимальная глубина\n",
    "    min_samples_leaf = 10, # Минимальное число объектов в листе\n",
    "    random_state=random_seed #генератор случайных чисел\n",
    ")\n",
    "# Train the Model\n",
    "dt.fit(X_train, y_train)\n",
    "\n",
    "# Prediction for train data\n",
    "y_pred_train = dt.predict(X_train)\n",
    "\n",
    "# Calculation of metrics\n",
    "print('Train: {:.2f}'.format(metrics.f1_score(y_train, y_pred_train)))\n",
    "\n",
    "# Prediction for validation data\n",
    "y_pred_test = dt.predict(X_test)\n",
    "# Calculation of metrics\n",
    "print('Test: {:.2f}'.format(metrics.f1_score(y_test, y_pred_test)))"
   ]
  },
  {
   "attachments": {},
   "cell_type": "markdown",
   "metadata": {},
   "source": [
    "### Random forest model"
   ]
  },
  {
   "cell_type": "code",
   "execution_count": 32,
   "id": "8e6acb34-3804-4286-a136-d9ed7e9fcecf",
   "metadata": {},
   "outputs": [
    {
     "name": "stdout",
     "output_type": "stream",
     "text": [
      "Train f1-score: 0.72\n",
      "Test  f1-score: 0.64\n"
     ]
    }
   ],
   "source": [
    "# Creation an instance of the RandomForest class\n",
    "rf = ensemble.RandomForestClassifier(\n",
    "    n_estimators=500, \n",
    "    criterion='entropy', \n",
    "    max_depth=8, \n",
    "    min_samples_leaf = 10, \n",
    "    #max_features='sqrt', \n",
    "    random_state=random_seed \n",
    ")\n",
    "# Train the model \n",
    "rf.fit(X_train, y_train)\n",
    "\n",
    "# Predicting\n",
    "y_pred_train = rf.predict(X_train)\n",
    "y_pred_test = rf.predict(X_test)\n",
    "\n",
    "# Metrics report\n",
    "print('Train f1-score: {:.2f}'.format(metrics.f1_score(y_train, y_pred_train)))\n",
    "print('Test  f1-score: {:.2f}'.format(metrics.f1_score(y_test, y_pred_test)))"
   ]
  },
  {
   "attachments": {},
   "cell_type": "markdown",
   "metadata": {},
   "source": [
    "#### Model optimization"
   ]
  },
  {
   "cell_type": "code",
   "execution_count": 33,
   "metadata": {},
   "outputs": [],
   "source": [
    "from sklearn.model_selection import RandomizedSearchCV"
   ]
  },
  {
   "cell_type": "code",
   "execution_count": 34,
   "metadata": {},
   "outputs": [
    {
     "name": "stdout",
     "output_type": "stream",
     "text": [
      "CPU times: total: 781 ms\n",
      "Wall time: 9.35 s\n",
      "f1_score for: 0.67\n",
      "Наилучшие значения гиперпараметров: {'n_estimators': 160, 'min_samples_leaf': 2, 'max_depth': 13, 'criterion': 'gini'}\n"
     ]
    }
   ],
   "source": [
    "param_distributions = {\n",
    "    'n_estimators': list(range(20, 200, 20)),\n",
    "    'criterion': [\"gini\", \"entropy\", \"log_loss\"],\n",
    "    'max_depth': list(np.linspace(5, 40, 5, dtype=int)),\n",
    "    'min_samples_leaf': list(range(2, 10, 2))\n",
    "}\n",
    "            \n",
    "random_search_forest = RandomizedSearchCV(\n",
    "    estimator=ensemble.RandomForestClassifier(random_state=random_seed), \n",
    "    param_distributions=param_distributions, \n",
    "    cv=5,\n",
    "    n_iter = 10, \n",
    "    n_jobs = -1\n",
    ")  \n",
    "%time random_search_forest.fit(X_train, y_train) \n",
    "y_train_pred = random_search_forest.predict(X_train)\n",
    "#print('f1_score for train_sa: {:.2f}'.format(metrics.f1_score(y_train, y_train_pred)))\n",
    "#print(\"accuracy на тестовом наборе: {:.2f}\".format(random_search_forest.score(X_test, y_test)))\n",
    "y_test_pred = random_search_forest.predict(X_test)\n",
    "print('f1_score for validation sample: {:.2f}'.format(metrics.f1_score(y_test, y_test_pred)))\n",
    "print(\"Best hyperparameters are: {}\".format(random_search_forest.best_params_))"
   ]
  },
  {
   "attachments": {},
   "cell_type": "markdown",
   "metadata": {},
   "source": [
    "Try the best parameters"
   ]
  },
  {
   "cell_type": "code",
   "execution_count": 36,
   "id": "8e6acb34-3804-4286-a136-d9ed7e9fcecf",
   "metadata": {},
   "outputs": [
    {
     "name": "stdout",
     "output_type": "stream",
     "text": [
      "Train f1-score: 0.95\n",
      "Test  f1-score: 0.66\n"
     ]
    }
   ],
   "source": [
    "# Creation an instance of the RandomForest class\n",
    "rf = ensemble.RandomForestClassifier(\n",
    "    n_estimators=160, \n",
    "    criterion='gini', \n",
    "    max_depth=22, \n",
    "    min_samples_leaf = 2, \n",
    "    random_state=random_seed \n",
    ")\n",
    "# Train the model \n",
    "rf.fit(X_train, y_train)\n",
    "\n",
    "# Predicting\n",
    "y_pred_train = rf.predict(X_train)\n",
    "y_pred_test = rf.predict(X_test)\n",
    "\n",
    "# Metrics report\n",
    "print('Train f1-score: {:.2f}'.format(metrics.f1_score(y_train, y_pred_train)))\n",
    "print('Test  f1-score: {:.2f}'.format(metrics.f1_score(y_test, y_pred_test)))"
   ]
  },
  {
   "cell_type": "code",
   "execution_count": 37,
   "metadata": {},
   "outputs": [],
   "source": [
    "# Calculation of exiting probabilities for the RandomForest\n",
    "y_test_proba_pred = rf.predict_proba(X_test)[:, 1]"
   ]
  },
  {
   "cell_type": "code",
   "execution_count": 38,
   "metadata": {},
   "outputs": [
    {
     "name": "stderr",
     "output_type": "stream",
     "text": [
      "C:\\Users\\Lena\\AppData\\Roaming\\Python\\Python310\\site-packages\\sklearn\\metrics\\_classification.py:1344: UndefinedMetricWarning:\n",
      "\n",
      "Precision is ill-defined and being set to 0.0 due to no predicted samples. Use `zero_division` parameter to control this behavior.\n",
      "\n"
     ]
    },
    {
     "data": {
      "image/png": "[encoded data removed]",
      "text/plain": [
       "<Figure size 800x300 with 1 Axes>"
      ]
     },
     "metadata": {},
     "output_type": "display_data"
    }
   ],
   "source": [
    "# Empty lists to store results \n",
    "recall_scores, precision_scores, f1_scores = [], [], []\n",
    "# Create 20 values of alpha between 0.1 and 1\n",
    "thresholds = np.arange(0.1, 1, 0.05)\n",
    "# calculation for each threshold\n",
    "for threshold in thresholds:\n",
    "    # clients with the probability > threshold assign to the class 1, else - to class 0\n",
    "    y_test_pred = np.where(y_test_proba_pred>threshold, 1, 0)\n",
    "    \n",
    "    # Calculation of metrics\n",
    "    f1_scores.append(metrics.f1_score(y_test, y_test_pred))\n",
    "    recall_scores.append(metrics.recall_score(y_test, y_test_pred))\n",
    "    precision_scores.append(metrics.precision_score(y_test, y_test_pred))\n",
    "    \n",
    "\n",
    "# Visualization of the metrics\n",
    "fig, ax = plt.subplots(figsize=(8, 3)) \n",
    "ax.plot(thresholds, f1_scores, label='F1-score')\n",
    "ax.plot(thresholds, recall_scores, label='Recall')\n",
    "ax.plot(thresholds, precision_scores, label='Precision')\n",
    "\n",
    "minor_ticks = np.arange(0, 1, 0.05)\n",
    "ax.set_xticks(minor_ticks, minor=True)\n",
    " \n",
    "ax.set_title('Fig.14 - F1-score vs probability threshold', y=-0.4)\n",
    "ax.set_xlabel('Probability threshold')\n",
    "ax.set_ylabel('Score')\n",
    "ax.legend()\n",
    "ax.grid()\n",
    "ax.grid(which='minor', alpha=0.2);\n",
    "\n",
    "plt.savefig('../figures/fig_14.png')"
   ]
  },
  {
   "cell_type": "code",
   "execution_count": 41,
   "metadata": {},
   "outputs": [
    {
     "name": "stdout",
     "output_type": "stream",
     "text": [
      "Best F1-score: 0.674, Maximal probability: 0.4\n"
     ]
    }
   ],
   "source": [
    "f1_scores = np.array(f1_scores)\n",
    "\n",
    "# The probability value of the best f1-score value\n",
    "threshold_opt_rf = thresholds[np.argmax(f1_scores)].round(3)\n",
    "\n",
    "# Best f1-score\n",
    "best_f1_score = np.max(f1_scores).round(3)\n",
    "\n",
    "print(f'Best F1-score: {best_f1_score}, Maximal probability: {threshold_opt_rf}')"
   ]
  },
  {
   "cell_type": "code",
   "execution_count": 39,
   "metadata": {},
   "outputs": [
    {
     "name": "stdout",
     "output_type": "stream",
     "text": [
      "              precision    recall  f1-score   support\n",
      "\n",
      "           0       0.89      0.71      0.79       424\n",
      "           1       0.58      0.82      0.68       204\n",
      "\n",
      "    accuracy                           0.75       628\n",
      "   macro avg       0.74      0.77      0.74       628\n",
      "weighted avg       0.79      0.75      0.76       628\n",
      "\n",
      "F1-score: 0.682\n"
     ]
    }
   ],
   "source": [
    "# Set classes: 1 for clients whose probability of exit is above threshold, else class 0\n",
    "y_test_pred = np.where(y_test_proba_pred > threshold_opt_rf, 1, 0)   \n",
    "\n",
    "# Estimation of metrics\n",
    "print(metrics.classification_report(y_test, y_pred_opt))\n",
    "print('F1-score:', metrics.f1_score(y_test, y_pred_opt).round(3))"
   ]
  },
  {
   "attachments": {},
   "cell_type": "markdown",
   "metadata": {},
   "source": [
    "## Roc metric\n",
    "\n",
    "Let us calculate ROC metric"
   ]
  },
  {
   "cell_type": "code",
   "execution_count": 40,
   "metadata": {},
   "outputs": [
    {
     "data": {
      "image/png": "[encoded data removed]",
      "text/plain": [
       "<Figure size 800x400 with 1 Axes>"
      ]
     },
     "metadata": {},
     "output_type": "display_data"
    }
   ],
   "source": [
    "y_test_prob = rf.predict_proba(np.array(X_test))[:, 1]\n",
    "\n",
    "# Estimate the number of bins\n",
    "unique, counts = np.unique(y_test_prob.round(2), return_counts=True)\n",
    "\n",
    "fig, ax = plt.subplots(figsize=(8, 4))\n",
    "ax.hist(y_test_prob, bins=100)\n",
    "ax.vlines(0.5, 0, np.max(counts))\n",
    "\n",
    "ax.set_title('Fig.15 - Predicted probability distribution', y=-0.3)\n",
    "ax.set_xlabel('Predicted probability of exit')\n",
    "ax.set_ylabel('Number of clients');\n",
    "\n",
    "plt.savefig('../figures/fig_15.png')"
   ]
  },
  {
   "cell_type": "code",
   "execution_count": 41,
   "metadata": {},
   "outputs": [
    {
     "data": {
      "image/png": "[encoded data removed]",
      "text/plain": [
       "<Figure size 500x500 with 1 Axes>"
      ]
     },
     "metadata": {},
     "output_type": "display_data"
    },
    {
     "data": {
      "text/plain": [
       "<Figure size 640x480 with 0 Axes>"
      ]
     },
     "metadata": {},
     "output_type": "display_data"
    }
   ],
   "source": [
    "from sklearn.metrics import roc_curve\n",
    "\n",
    "false_positive_rates, true_positive_rates, threshold = roc_curve(y_test, y_test_prob)\n",
    "\n",
    "\n",
    "# создаём график\n",
    "fig, ax = plt.subplots(figsize=(5, 5))\n",
    "\n",
    "# ROC curve\n",
    "ax.plot(false_positive_rates, true_positive_rates, \n",
    "         label='Smoothed values ROC-AUC')\n",
    "\n",
    "# Random model\n",
    "ax.plot([0, 1], [0, 1], color='k', lw=2, linestyle=':', \n",
    "         label='Model predicting random ')\n",
    "\n",
    "ax.set_title('Fig.16 - ROC curve', y=-0.2)\n",
    "ax.set_xlabel('False Positive Rate')\n",
    "ax.set_ylabel('True Positive Rate')\n",
    "\n",
    "ax.fill_between(false_positive_rates, true_positive_rates, step=\"pre\", \n",
    "                 alpha=0.4, label='Area under curve (ROC-AUC)')\n",
    "ax.legend()\n",
    "plt.show();\n",
    "\n",
    "plt.savefig('../figures/fig_16.png');"
   ]
  },
  {
   "attachments": {},
   "cell_type": "markdown",
   "metadata": {},
   "source": [
    "### Feature selection for the best model"
   ]
  },
  {
   "cell_type": "code",
   "execution_count": 46,
   "metadata": {},
   "outputs": [
    {
     "name": "stdout",
     "output_type": "stream",
     "text": [
      "The most important features are:  ['Age', 'NumOfProducts', 'IsActiveMember', 'EstimatedSalary']\n",
      "Less important features are:  ['CreditScore', 'Tenure', 'Balance', 'HasCrCard']\n",
      "['CreditScore', 'Age', 'Tenure', 'Balance', 'NumOfProducts', 'HasCrCard', 'IsActiveMember', 'EstimatedSalary']\n"
     ]
    },
    {
     "data": {
      "text/plain": [
       "array([2, 1, 4, 3, 1, 5, 1, 1])"
      ]
     },
     "execution_count": 46,
     "metadata": {},
     "output_type": "execute_result"
    }
   ],
   "source": [
    "from sklearn.feature_selection import RFE\n",
    "X_train, X_test, y_train, y_test = train_test_split(X_scaled, y, stratify=y, random_state=random_seed) \n",
    "\n",
    "estimator = linear_model.LogisticRegression()\n",
    "X_train = pd.DataFrame(X_train, columns=X.columns.tolist())\n",
    "X_test = pd.DataFrame(X_test, columns=X.columns.tolist())\n",
    "\n",
    "selector = RFE(estimator, n_features_to_select=4, step=1)\n",
    "selector = selector.fit(X_train, y_train)\n",
    "\n",
    "# Rank features\n",
    "features_most_important = selector.get_feature_names_out().tolist()\n",
    "print('The most important features are: ', features_most_important)\n",
    "\n",
    "features_least_important = [col for col in X_train.columns if col not in features_most_important]\n",
    "print('Less important features are: ', features_least_important)\n",
    "\n",
    "print(X_train.columns.tolist())\n",
    "selector.ranking_"
   ]
  },
  {
   "cell_type": "code",
   "execution_count": 47,
   "id": "8e6acb34-3804-4286-a136-d9ed7e9fcecf",
   "metadata": {},
   "outputs": [
    {
     "name": "stdout",
     "output_type": "stream",
     "text": [
      "Train f1-score: 0.85\n",
      "Test  f1-score: 0.60\n"
     ]
    }
   ],
   "source": [
    "# Creation an instance of the RandomForest class\n",
    "rf = ensemble.RandomForestClassifier(\n",
    "    n_estimators=160, # trees\n",
    "    criterion='gini', # criteria\n",
    "    max_depth=15, # maximal depth\n",
    "    min_samples_leaf = 2, # min number of objects\n",
    "    random_state=random_seed  \n",
    ")\n",
    "X_train_rfe = X_train[features_most_important]\n",
    "X_test_rfe  =  X_test[features_most_important]\n",
    "# Train the model \n",
    "rf.fit(X_train_rfe, y_train)\n",
    "\n",
    "# Predicting\n",
    "y_pred_train_rfe = rf.predict(X_train_rfe)\n",
    "y_pred_test_rfe = rf.predict(X_test_rfe)\n",
    "\n",
    "# Metrics report\n",
    "print('Train f1-score: {:.2f}'.format(metrics.f1_score(y_train, y_pred_train_rfe)))\n",
    "print('Test  f1-score: {:.2f}'.format(metrics.f1_score(y_test, y_pred_test_rfe)))"
   ]
  },
  {
   "attachments": {},
   "cell_type": "markdown",
   "metadata": {},
   "source": [
    "#### Method SelectKBest"
   ]
  },
  {
   "cell_type": "code",
   "execution_count": 44,
   "metadata": {},
   "outputs": [
    {
     "name": "stdout",
     "output_type": "stream",
     "text": [
      "The most important features are:  ['CreditScore', 'Age', 'NumOfProducts', 'IsActiveMember']\n",
      "Less important features are:  ['Tenure', 'Balance', 'HasCrCard', 'EstimatedSalary']\n"
     ]
    }
   ],
   "source": [
    "from sklearn.feature_selection import SelectKBest, f_regression\n",
    "\n",
    "X_train, X_test, y_train, y_test = train_test_split(X_scaled, y, stratify=y, random_state=random_seed) \n",
    "\n",
    "estimator = linear_model.LogisticRegression()\n",
    "X_train = pd.DataFrame(X_train, columns=X.columns.tolist())\n",
    "X_test = pd.DataFrame(X_test, columns=X.columns.tolist())\n",
    "\n",
    "selector = SelectKBest(f_regression, k=4)\n",
    "selector.fit(X_train, y_train)\n",
    "\n",
    "# Rank features\n",
    "features_most_important_kbest = selector.get_feature_names_out().tolist()\n",
    "print('The most important features are: ', features_most_important_kbest)\n",
    "\n",
    "features_least_important_kbest = [col for col in X_train.columns if col not in features_most_important_kbest]\n",
    "print('Less important features are: ', features_least_important_kbest)\n"
   ]
  },
  {
   "cell_type": "code",
   "execution_count": 45,
   "id": "8e6acb34-3804-4286-a136-d9ed7e9fcecf",
   "metadata": {},
   "outputs": [
    {
     "name": "stdout",
     "output_type": "stream",
     "text": [
      "Train f1-score: 0.86\n",
      "Test  f1-score: 0.60\n"
     ]
    }
   ],
   "source": [
    "# Creation an instance of the RandomForest class\n",
    "rf = ensemble.RandomForestClassifier(\n",
    "    n_estimators=160, \n",
    "    criterion='gini', \n",
    "    max_depth=15, \n",
    "    min_samples_leaf = 2,  \n",
    "    random_state=random_seed \n",
    ")\n",
    "\n",
    "X_train_kbest = X_train[features_most_important_kbest]\n",
    "X_test_kbest  =  X_test[features_most_important_kbest]\n",
    "# Train the model \n",
    "rf.fit(X_train_kbest, y_train)\n",
    "\n",
    "# Predicting\n",
    "y_pred_train_kbest = rf.predict(X_train_kbest)\n",
    "y_pred_test_kbest = rf.predict(X_test_kbest)\n",
    "\n",
    "# Metrics report\n",
    "print('Train f1-score: {:.2f}'.format(metrics.f1_score(y_train, y_pred_train)))\n",
    "print('Test  f1-score: {:.2f}'.format(metrics.f1_score(y_test, y_pred_test)))\n",
    "# Estimation of metrics\n",
    "#print(metrics.classification_report(y_test, y_pred_test_kbest))"
   ]
  },
  {
   "attachments": {},
   "cell_type": "markdown",
   "metadata": {},
   "source": [
    "Comparing two methods of feature selection such as RFE and SelectKBest it is possible to conclude that SelectKBest method shows better F1-score on validation sample.\n",
    "\n",
    "| Feature selection method| F1-score |\n",
    "|--|--|\n",
    "|RFE|0.60|\n",
    "|SelectKBest| 0.64|"
   ]
  },
  {
   "attachments": {},
   "cell_type": "markdown",
   "metadata": {},
   "source": [
    "# Conclusion\n",
    "\n",
    "It was creared a model which successfully predicts customer outflow. The model shows satisfactory predicting value when it is learning on 4 the most valuable features."
   ]
  }
 ],
 "metadata": {
  "kernelspec": {
   "display_name": "Python 3.10.7 64-bit",
   "language": "python",
   "name": "python3"
  },
  "language_info": {
   "codemirror_mode": {
    "name": "ipython",
    "version": 3
   },
   "file_extension": ".py",
   "mimetype": "text/x-python",
   "name": "python",
   "nbconvert_exporter": "python",
   "pygments_lexer": "ipython3",
   "version": "3.10.7"
  },
  "orig_nbformat": 4,
  "vscode": {
   "interpreter": {
    "hash": "26de051ba29f2982a8de78e945f0abaf191376122a1563185a90213a26c5da77"
   }
  }
 },
 "nbformat": 4,
 "nbformat_minor": 2
}
